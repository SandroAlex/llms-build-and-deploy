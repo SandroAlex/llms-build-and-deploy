{
 "cells": [
  {
   "cell_type": "markdown",
   "id": "3fa71bd9",
   "metadata": {},
   "source": [
    "# Chapter 6"
   ]
  },
  {
   "cell_type": "markdown",
   "id": "a15561a9",
   "metadata": {},
   "source": [
    "## Initial Setup"
   ]
  },
  {
   "cell_type": "code",
   "execution_count": 1,
   "id": "d403f21c",
   "metadata": {},
   "outputs": [],
   "source": [
    "%load_ext autoreload\n",
    "%autoreload 2"
   ]
  },
  {
   "cell_type": "code",
   "execution_count": 2,
   "id": "52df9595",
   "metadata": {},
   "outputs": [],
   "source": [
    "# Initial imports.\n",
    "import os\n",
    "import sys\n",
    "import zipfile\n",
    "import time\n",
    "import tiktoken\n",
    "import torch\n",
    "\n",
    "import numpy as np\n",
    "import pandas as pd\n",
    "\n",
    "from pathlib import Path\n",
    "\n",
    "from typing import List, Dict, Any\n",
    "\n",
    "import urllib.request\n",
    "\n",
    "from matplotlib import pyplot as plt\n",
    "from importlib.metadata import version\n",
    "from torch.utils.data import Dataset, DataLoader"
   ]
  },
  {
   "cell_type": "code",
   "execution_count": 3,
   "id": "8b780d27",
   "metadata": {},
   "outputs": [],
   "source": [
    "ancillar_path = \"/llm_app/notebooks/build_large_language_models_from_scratch/\"\n",
    "\n",
    "if ancillar_path not in sys.path:\n",
    "    sys.path.append(ancillar_path)\n",
    "\n",
    "import ancillar as aux"
   ]
  },
  {
   "cell_type": "code",
   "execution_count": 4,
   "id": "b6dab0d6",
   "metadata": {},
   "outputs": [
    {
     "name": "stdout",
     "output_type": "stream",
     "text": [
      "matplotlib version: 3.10.0\n",
      "numpy version: 1.26.3\n",
      "tiktoken version: 0.8.0\n",
      "torch version: 2.5.1+cpu\n",
      "tensorflow version: 2.19.0\n",
      "pandas version: 2.2.3\n"
     ]
    }
   ],
   "source": [
    "# Show the version of the packages we are using.\n",
    "pkgs = [\n",
    "    \"matplotlib\",  # Plotting library.\n",
    "    \"numpy\",  # PyTorch & TensorFlow dependency.\n",
    "    \"tiktoken\",  # Tokenizer.\n",
    "    \"torch\",  # Deep learning library.\n",
    "    \"tensorflow\",  # For OpenAI's pretrained weights.\n",
    "    \"pandas\",  # Dataset loading.\n",
    "]\n",
    "\n",
    "for p in pkgs:\n",
    "    print(f\"{p} version: {version(p)}\")"
   ]
  },
  {
   "cell_type": "markdown",
   "id": "5d96d3fd",
   "metadata": {},
   "source": [
    "## Preparing the Dataset"
   ]
  },
  {
   "cell_type": "code",
   "execution_count": 5,
   "id": "0cb37435",
   "metadata": {},
   "outputs": [],
   "source": [
    "url = \"https://archive.ics.uci.edu/static/public/228/sms+spam+collection.zip\"\n",
    "zip_path = \"sms_spam_collection.zip\"\n",
    "extracted_path = (\n",
    "    \"/llm_app/notebooks/build_large_language_models_from_scratch/sms_spam_collection\"\n",
    ")\n",
    "data_file_path = Path(extracted_path) / \"SMSSpamCollection.tsv\""
   ]
  },
  {
   "cell_type": "code",
   "execution_count": 6,
   "id": "2b33d23d",
   "metadata": {},
   "outputs": [],
   "source": [
    "def download_and_unzip_spam_data(url, zip_path, extracted_path, data_file_path):\n",
    "    \"\"\"\n",
    "    Listing 6.1 Downloading and unzipping the dataset.\n",
    "    \"\"\"\n",
    "\n",
    "    if data_file_path.exists():\n",
    "        print(f\"{data_file_path} already exists. Skipping download and extraction.\")\n",
    "        return\n",
    "\n",
    "    # Downloading the file.\n",
    "    with urllib.request.urlopen(url) as response:\n",
    "        with open(zip_path, \"wb\") as out_file:\n",
    "            out_file.write(response.read())\n",
    "\n",
    "    # Unzipping the file.\n",
    "    with zipfile.ZipFile(zip_path, \"r\") as zip_ref:\n",
    "        zip_ref.extractall(extracted_path)\n",
    "\n",
    "    # Add .tsv file extension.\n",
    "    original_file_path = Path(extracted_path) / \"SMSSpamCollection\"\n",
    "    os.rename(original_file_path, data_file_path)\n",
    "    print(f\"File downloaded and saved as {data_file_path}\")"
   ]
  },
  {
   "cell_type": "code",
   "execution_count": 7,
   "id": "feae8315",
   "metadata": {},
   "outputs": [
    {
     "name": "stdout",
     "output_type": "stream",
     "text": [
      "/llm_app/notebooks/build_large_language_models_from_scratch/sms_spam_collection/SMSSpamCollection.tsv already exists. Skipping download and extraction.\n"
     ]
    }
   ],
   "source": [
    "try:\n",
    "    download_and_unzip_spam_data(url, zip_path, extracted_path, data_file_path)\n",
    "except (urllib.error.HTTPError, urllib.error.URLError, TimeoutError) as e:\n",
    "    print(f\"Primary URL failed: {e}. Trying backup URL...\")\n",
    "    url = \"https://f001.backblazeb2.com/file/LLMs-from-scratch/sms%2Bspam%2Bcollection.zip\"\n",
    "    download_and_unzip_spam_data(url, zip_path, extracted_path, data_file_path)"
   ]
  },
  {
   "cell_type": "code",
   "execution_count": 8,
   "id": "80b8f6dd",
   "metadata": {},
   "outputs": [
    {
     "data": {
      "text/html": [
       "<div>\n",
       "<style scoped>\n",
       "    .dataframe tbody tr th:only-of-type {\n",
       "        vertical-align: middle;\n",
       "    }\n",
       "\n",
       "    .dataframe tbody tr th {\n",
       "        vertical-align: top;\n",
       "    }\n",
       "\n",
       "    .dataframe thead th {\n",
       "        text-align: right;\n",
       "    }\n",
       "</style>\n",
       "<table border=\"1\" class=\"dataframe\">\n",
       "  <thead>\n",
       "    <tr style=\"text-align: right;\">\n",
       "      <th></th>\n",
       "      <th>Label</th>\n",
       "      <th>Text</th>\n",
       "    </tr>\n",
       "  </thead>\n",
       "  <tbody>\n",
       "    <tr>\n",
       "      <th>0</th>\n",
       "      <td>ham</td>\n",
       "      <td>Go until jurong point, crazy.. Available only ...</td>\n",
       "    </tr>\n",
       "    <tr>\n",
       "      <th>1</th>\n",
       "      <td>ham</td>\n",
       "      <td>Ok lar... Joking wif u oni...</td>\n",
       "    </tr>\n",
       "    <tr>\n",
       "      <th>2</th>\n",
       "      <td>spam</td>\n",
       "      <td>Free entry in 2 a wkly comp to win FA Cup fina...</td>\n",
       "    </tr>\n",
       "    <tr>\n",
       "      <th>3</th>\n",
       "      <td>ham</td>\n",
       "      <td>U dun say so early hor... U c already then say...</td>\n",
       "    </tr>\n",
       "    <tr>\n",
       "      <th>4</th>\n",
       "      <td>ham</td>\n",
       "      <td>Nah I don't think he goes to usf, he lives aro...</td>\n",
       "    </tr>\n",
       "    <tr>\n",
       "      <th>...</th>\n",
       "      <td>...</td>\n",
       "      <td>...</td>\n",
       "    </tr>\n",
       "    <tr>\n",
       "      <th>5567</th>\n",
       "      <td>spam</td>\n",
       "      <td>This is the 2nd time we have tried 2 contact u...</td>\n",
       "    </tr>\n",
       "    <tr>\n",
       "      <th>5568</th>\n",
       "      <td>ham</td>\n",
       "      <td>Will ü b going to esplanade fr home?</td>\n",
       "    </tr>\n",
       "    <tr>\n",
       "      <th>5569</th>\n",
       "      <td>ham</td>\n",
       "      <td>Pity, * was in mood for that. So...any other s...</td>\n",
       "    </tr>\n",
       "    <tr>\n",
       "      <th>5570</th>\n",
       "      <td>ham</td>\n",
       "      <td>The guy did some bitching but I acted like i'd...</td>\n",
       "    </tr>\n",
       "    <tr>\n",
       "      <th>5571</th>\n",
       "      <td>ham</td>\n",
       "      <td>Rofl. Its true to its name</td>\n",
       "    </tr>\n",
       "  </tbody>\n",
       "</table>\n",
       "<p>5572 rows × 2 columns</p>\n",
       "</div>"
      ],
      "text/plain": [
       "     Label                                               Text\n",
       "0      ham  Go until jurong point, crazy.. Available only ...\n",
       "1      ham                      Ok lar... Joking wif u oni...\n",
       "2     spam  Free entry in 2 a wkly comp to win FA Cup fina...\n",
       "3      ham  U dun say so early hor... U c already then say...\n",
       "4      ham  Nah I don't think he goes to usf, he lives aro...\n",
       "...    ...                                                ...\n",
       "5567  spam  This is the 2nd time we have tried 2 contact u...\n",
       "5568   ham               Will ü b going to esplanade fr home?\n",
       "5569   ham  Pity, * was in mood for that. So...any other s...\n",
       "5570   ham  The guy did some bitching but I acted like i'd...\n",
       "5571   ham                         Rofl. Its true to its name\n",
       "\n",
       "[5572 rows x 2 columns]"
      ]
     },
     "execution_count": 8,
     "metadata": {},
     "output_type": "execute_result"
    }
   ],
   "source": [
    "df = pd.read_csv(data_file_path, sep=\"\\t\", header=None, names=[\"Label\", \"Text\"])\n",
    "\n",
    "# Show it.\n",
    "df"
   ]
  },
  {
   "cell_type": "code",
   "execution_count": 9,
   "id": "8f6bf4cb",
   "metadata": {},
   "outputs": [
    {
     "name": "stdout",
     "output_type": "stream",
     "text": [
      "Label\n",
      "ham     4825\n",
      "spam     747\n",
      "Name: count, dtype: int64\n"
     ]
    }
   ],
   "source": [
    "print(df[\"Label\"].value_counts())"
   ]
  },
  {
   "cell_type": "code",
   "execution_count": 10,
   "id": "76607724",
   "metadata": {},
   "outputs": [
    {
     "name": "stdout",
     "output_type": "stream",
     "text": [
      "Label\n",
      "ham     86.593683\n",
      "spam    13.406317\n",
      "Name: count, dtype: float64\n"
     ]
    }
   ],
   "source": [
    "print(df[\"Label\"].value_counts() / df.shape[0] * 100)"
   ]
  },
  {
   "cell_type": "code",
   "execution_count": 11,
   "id": "8d0f69a2",
   "metadata": {},
   "outputs": [],
   "source": [
    "def create_balanced_dataset(df):\n",
    "    \"\"\"\n",
    "    Listing 6.2 Creating a balanced dataset.\n",
    "    \"\"\"\n",
    "\n",
    "    # Count the instances of \"spam\".\n",
    "    num_spam = df[df[\"Label\"] == \"spam\"].shape[0]\n",
    "\n",
    "    # Randomly sample \"ham\" instances to match the number of \"spam\" instances.\n",
    "    ham_subset = df[df[\"Label\"] == \"ham\"].sample(num_spam, random_state=123)\n",
    "\n",
    "    # Combine ham \"subset\" with \"spam\".\n",
    "    balanced_df = pd.concat([ham_subset, df[df[\"Label\"] == \"spam\"]])\n",
    "\n",
    "    return balanced_df"
   ]
  },
  {
   "cell_type": "code",
   "execution_count": 12,
   "id": "605ff2e5",
   "metadata": {},
   "outputs": [
    {
     "name": "stdout",
     "output_type": "stream",
     "text": [
      "Label\n",
      "ham     747\n",
      "spam    747\n",
      "Name: count, dtype: int64\n"
     ]
    }
   ],
   "source": [
    "balanced_df = create_balanced_dataset(df)\n",
    "print(balanced_df[\"Label\"].value_counts())"
   ]
  },
  {
   "cell_type": "code",
   "execution_count": 13,
   "id": "ea521676",
   "metadata": {},
   "outputs": [],
   "source": [
    "balanced_df[\"Label\"] = balanced_df[\"Label\"].map({\"ham\": 0, \"spam\": 1})"
   ]
  },
  {
   "cell_type": "code",
   "execution_count": 14,
   "id": "a69d330b",
   "metadata": {},
   "outputs": [],
   "source": [
    "train_df, validation_df, test_df = aux.random_split(balanced_df, 0.7, 0.1)"
   ]
  },
  {
   "cell_type": "code",
   "execution_count": 15,
   "id": "69947b8e",
   "metadata": {},
   "outputs": [],
   "source": [
    "train_file_path = \"/llm_app/notebooks/build_large_language_models_from_scratch/sms_spam_collection/train.csv\"\n",
    "validation_file_path = \"/llm_app/notebooks/build_large_language_models_from_scratch/sms_spam_collection/validation.csv\"\n",
    "test_file_path = \"/llm_app/notebooks/build_large_language_models_from_scratch/sms_spam_collection/test.csv\"\n",
    "\n",
    "train_df.to_csv(train_file_path, index=None)\n",
    "validation_df.to_csv(validation_file_path, index=None)\n",
    "test_df.to_csv(test_file_path, index=None)"
   ]
  },
  {
   "cell_type": "code",
   "execution_count": 16,
   "id": "2130eecb",
   "metadata": {},
   "outputs": [
    {
     "name": "stdout",
     "output_type": "stream",
     "text": [
      "Label\n",
      "0    528\n",
      "1    517\n",
      "Name: count, dtype: int64\n"
     ]
    }
   ],
   "source": [
    "print(train_df[\"Label\"].value_counts())"
   ]
  },
  {
   "cell_type": "code",
   "execution_count": 17,
   "id": "2cf50323",
   "metadata": {},
   "outputs": [
    {
     "name": "stdout",
     "output_type": "stream",
     "text": [
      "Label\n",
      "1    79\n",
      "0    70\n",
      "Name: count, dtype: int64\n"
     ]
    }
   ],
   "source": [
    "print(validation_df[\"Label\"].value_counts())"
   ]
  },
  {
   "cell_type": "code",
   "execution_count": 18,
   "id": "754b3363",
   "metadata": {},
   "outputs": [
    {
     "name": "stdout",
     "output_type": "stream",
     "text": [
      "Label\n",
      "1    151\n",
      "0    149\n",
      "Name: count, dtype: int64\n"
     ]
    }
   ],
   "source": [
    "print(test_df[\"Label\"].value_counts())"
   ]
  },
  {
   "cell_type": "markdown",
   "id": "b7201471",
   "metadata": {},
   "source": [
    "## Creating Data Loaders"
   ]
  },
  {
   "cell_type": "code",
   "execution_count": 19,
   "id": "fa096380",
   "metadata": {},
   "outputs": [
    {
     "name": "stdout",
     "output_type": "stream",
     "text": [
      "[50256, 2547, 24744, 389, 4077, 780, 484, 15350, 422, 16278, 793, 64, 1834, 220, 50256]\n"
     ]
    }
   ],
   "source": [
    "tokenizer = tiktoken.get_encoding(\"gpt2\")\n",
    "print(\n",
    "    tokenizer.encode(\n",
    "        \"<|endoftext|> Parrots are green because they descend from dinossaurs <|endoftext|>\",\n",
    "        allowed_special={\"<|endoftext|>\"},\n",
    "    )\n",
    ")"
   ]
  },
  {
   "cell_type": "code",
   "execution_count": 20,
   "id": "7ec5b77d",
   "metadata": {},
   "outputs": [
    {
     "data": {
      "text/plain": [
       "tiktoken.core.Encoding"
      ]
     },
     "execution_count": 20,
     "metadata": {},
     "output_type": "execute_result"
    }
   ],
   "source": [
    "type(tokenizer)"
   ]
  },
  {
   "cell_type": "code",
   "execution_count": 21,
   "id": "aa910b23",
   "metadata": {},
   "outputs": [
    {
     "name": "stdout",
     "output_type": "stream",
     "text": [
      "120\n"
     ]
    }
   ],
   "source": [
    "train_dataset = aux.SpamDataset(\n",
    "    csv_file=train_file_path, max_length=None, tokenizer=tokenizer\n",
    ")\n",
    "\n",
    "# Show the largest encoded length.\n",
    "print(train_dataset.max_length)"
   ]
  },
  {
   "cell_type": "code",
   "execution_count": 22,
   "id": "0d0b243e",
   "metadata": {},
   "outputs": [],
   "source": [
    "val_dataset = aux.SpamDataset(\n",
    "    csv_file=validation_file_path,\n",
    "    max_length=train_dataset.max_length,\n",
    "    tokenizer=tokenizer,\n",
    ")\n",
    "test_dataset = aux.SpamDataset(\n",
    "    csv_file=test_file_path, max_length=train_dataset.max_length, tokenizer=tokenizer\n",
    ")"
   ]
  },
  {
   "cell_type": "code",
   "execution_count": 23,
   "id": "276db0a0",
   "metadata": {},
   "outputs": [],
   "source": [
    "torch.manual_seed(123)\n",
    "\n",
    "num_workers: int = 0  # This setting ensures compatibility with most computers.\n",
    "batch_size: int = int(1 * 8)\n",
    "\n",
    "train_loader = DataLoader(\n",
    "    dataset=train_dataset,\n",
    "    batch_size=batch_size,\n",
    "    shuffle=True,\n",
    "    num_workers=num_workers,\n",
    "    drop_last=True,\n",
    ")\n",
    "\n",
    "val_loader = DataLoader(\n",
    "    dataset=val_dataset,\n",
    "    batch_size=batch_size,\n",
    "    shuffle=False,\n",
    "    num_workers=num_workers,\n",
    "    drop_last=False,\n",
    ")\n",
    "\n",
    "test_loader = DataLoader(\n",
    "    dataset=test_dataset,\n",
    "    batch_size=batch_size,\n",
    "    shuffle=False,\n",
    "    num_workers=num_workers,\n",
    "    drop_last=False,\n",
    ")"
   ]
  },
  {
   "cell_type": "code",
   "execution_count": 24,
   "id": "7a03624c",
   "metadata": {},
   "outputs": [
    {
     "name": "stdout",
     "output_type": "stream",
     "text": [
      ">>> Input batch dimensions: torch.Size([8, 120])\n",
      ">>> Label batch dimensions: torch.Size([8])\n"
     ]
    }
   ],
   "source": [
    "for input_batch, target_batch in train_loader:\n",
    "    pass\n",
    "\n",
    "print(\">>> Input batch dimensions:\", input_batch.shape)\n",
    "print(\">>> Label batch dimensions:\", target_batch.shape)"
   ]
  },
  {
   "cell_type": "code",
   "execution_count": 25,
   "id": "9ece22ac",
   "metadata": {},
   "outputs": [
    {
     "name": "stdout",
     "output_type": "stream",
     "text": [
      ">>> 130 training batches ...\n",
      ">>> 19 validation batches ...\n",
      ">>> 38 test batches ...\n"
     ]
    }
   ],
   "source": [
    "print(f\">>> {len(train_loader)} training batches ...\")\n",
    "print(f\">>> {len(val_loader)} validation batches ...\")\n",
    "print(f\">>> {len(test_loader)} test batches ...\")"
   ]
  },
  {
   "cell_type": "markdown",
   "id": "79cf2708",
   "metadata": {},
   "source": [
    "## Initializing a Model with Pretrained Weights"
   ]
  },
  {
   "cell_type": "code",
   "execution_count": 26,
   "id": "b68b5b10",
   "metadata": {},
   "outputs": [
    {
     "name": "stdout",
     "output_type": "stream",
     "text": [
      ">>> Base configuration:\n",
      "\t{'vocab_size': 50257, 'context_length': 1024, 'drop_rate': 0.0, 'qkv_bias': True, 'emb_dim': 768, 'n_layers': 12, 'n_heads': 12}\n"
     ]
    }
   ],
   "source": [
    "CHOOSE_MODEL = \"gpt2-small (124M)\"\n",
    "INPUT_PROMPT = \"Every effort moves\"\n",
    "\n",
    "BASE_CONFIG = {\n",
    "    \"vocab_size\": 50257,  # Vocabulary size.\n",
    "    \"context_length\": 1024,  # Context length.\n",
    "    \"drop_rate\": 0.0,  # Dropout rate.\n",
    "    \"qkv_bias\": True,  # Query-key-value bias.\n",
    "}\n",
    "\n",
    "model_configs = {\n",
    "    \"gpt2-small (124M)\": {\"emb_dim\": 768, \"n_layers\": 12, \"n_heads\": 12},\n",
    "    \"gpt2-medium (355M)\": {\"emb_dim\": 1024, \"n_layers\": 24, \"n_heads\": 16},\n",
    "    \"gpt2-large (774M)\": {\"emb_dim\": 1280, \"n_layers\": 36, \"n_heads\": 20},\n",
    "    \"gpt2-xl (1558M)\": {\"emb_dim\": 1600, \"n_layers\": 48, \"n_heads\": 25},\n",
    "}\n",
    "\n",
    "BASE_CONFIG.update(model_configs[CHOOSE_MODEL])\n",
    "\n",
    "print(f\">>> Base configuration:\\n\\t{BASE_CONFIG}\")\n",
    "\n",
    "assert train_dataset.max_length <= BASE_CONFIG[\"context_length\"], (\n",
    "    f\"Dataset length {train_dataset.max_length} exceeds model's context \"\n",
    "    f\"length {BASE_CONFIG['context_length']}. Reinitialize data sets with \"\n",
    "    f\"`max_length={BASE_CONFIG['context_length']}`\"\n",
    ")"
   ]
  },
  {
   "cell_type": "code",
   "execution_count": 27,
   "id": "b7b74067",
   "metadata": {},
   "outputs": [
    {
     "name": "stderr",
     "output_type": "stream",
     "text": [
      "2025-07-18 17:14:56.904561: I external/local_xla/xla/tsl/cuda/cudart_stub.cc:32] Could not find cuda drivers on your machine, GPU will not be used.\n",
      "2025-07-18 17:14:56.908297: I external/local_xla/xla/tsl/cuda/cudart_stub.cc:32] Could not find cuda drivers on your machine, GPU will not be used.\n",
      "2025-07-18 17:14:56.919527: E external/local_xla/xla/stream_executor/cuda/cuda_fft.cc:467] Unable to register cuFFT factory: Attempting to register factory for plugin cuFFT when one has already been registered\n",
      "WARNING: All log messages before absl::InitializeLog() is called are written to STDERR\n",
      "E0000 00:00:1752858896.939459     159 cuda_dnn.cc:8579] Unable to register cuDNN factory: Attempting to register factory for plugin cuDNN when one has already been registered\n",
      "E0000 00:00:1752858896.945235     159 cuda_blas.cc:1407] Unable to register cuBLAS factory: Attempting to register factory for plugin cuBLAS when one has already been registered\n",
      "W0000 00:00:1752858896.960532     159 computation_placer.cc:177] computation placer already registered. Please check linkage and avoid linking the same target more than once.\n",
      "W0000 00:00:1752858896.960558     159 computation_placer.cc:177] computation placer already registered. Please check linkage and avoid linking the same target more than once.\n",
      "W0000 00:00:1752858896.960560     159 computation_placer.cc:177] computation placer already registered. Please check linkage and avoid linking the same target more than once.\n",
      "W0000 00:00:1752858896.960562     159 computation_placer.cc:177] computation placer already registered. Please check linkage and avoid linking the same target more than once.\n",
      "2025-07-18 17:14:56.965823: I tensorflow/core/platform/cpu_feature_guard.cc:210] This TensorFlow binary is optimized to use available CPU instructions in performance-critical operations.\n",
      "To enable the following instructions: AVX2 AVX512F FMA, in other operations, rebuild TensorFlow with the appropriate compiler flags.\n"
     ]
    }
   ],
   "source": [
    "url = (\n",
    "    \"https://raw.githubusercontent.com/rasbt/\"\n",
    "    \"LLMs-from-scratch/main/ch05/\"\n",
    "    \"01_main-chapter-code/gpt_download.py\"\n",
    ")\n",
    "\n",
    "filename = url.split(\"/\")[-1]\n",
    "urllib.request.urlretrieve(url, filename)\n",
    "\n",
    "from gpt_download import download_and_load_gpt2"
   ]
  },
  {
   "cell_type": "code",
   "execution_count": 28,
   "id": "23f9604e",
   "metadata": {},
   "outputs": [
    {
     "name": "stdout",
     "output_type": "stream",
     "text": [
      "File already exists and is up-to-date: gpt2/124M/checkpoint\n",
      "File already exists and is up-to-date: gpt2/124M/encoder.json\n",
      "File already exists and is up-to-date: gpt2/124M/hparams.json\n",
      "File already exists and is up-to-date: gpt2/124M/model.ckpt.data-00000-of-00001\n",
      "File already exists and is up-to-date: gpt2/124M/model.ckpt.index\n",
      "File already exists and is up-to-date: gpt2/124M/model.ckpt.meta\n",
      "File already exists and is up-to-date: gpt2/124M/vocab.bpe\n"
     ]
    }
   ],
   "source": [
    "model_size = CHOOSE_MODEL.split(\" \")[-1].lstrip(\"(\").rstrip(\")\")\n",
    "model_size\n",
    "\n",
    "settings, params = download_and_load_gpt2(model_size=model_size, models_dir=\"gpt2\")\n",
    "\n",
    "model = aux.GPTModel(BASE_CONFIG)\n",
    "aux.load_weights_into_gpt(model, params)\n",
    "\n",
    "# In evaluation mode, dropout layers are disabled and the model\n",
    "# behaves deterministically.\n",
    "_ = model.eval();"
   ]
  },
  {
   "cell_type": "code",
   "execution_count": 29,
   "id": "1503c305",
   "metadata": {},
   "outputs": [
    {
     "name": "stdout",
     "output_type": "stream",
     "text": [
      "Every effort moves you forward.\n",
      "\n",
      "The first step is to understand the importance of your work\n"
     ]
    }
   ],
   "source": [
    "text_1 = \"Every effort moves you\"\n",
    "\n",
    "token_ids = aux.generate_text_simple(\n",
    "    model=model,\n",
    "    idx=aux.text_to_token_ids(text_1, tokenizer),\n",
    "    max_new_tokens=15,\n",
    "    context_size=BASE_CONFIG[\"context_length\"],\n",
    ")\n",
    "\n",
    "print(aux.token_ids_to_text(token_ids, tokenizer))"
   ]
  },
  {
   "cell_type": "code",
   "execution_count": 30,
   "id": "da0d98a8",
   "metadata": {},
   "outputs": [
    {
     "name": "stdout",
     "output_type": "stream",
     "text": [
      "Is the following text 'spam'? Answer with 'yes' or 'no': 'You are a winner you have been specially selected to receive $1000 cash or a $2000 award.'\n",
      "\n",
      "The following text 'spam'? Answer with 'yes' or 'no': 'You are a winner you have been specially selected to receive $1000 cash or a $2000 award.'\n",
      "\n",
      "The following text 'spam'? Answer with 'yes' or 'no': 'You are a winner you have been specially selected to receive $1000 cash or a $\n"
     ]
    }
   ],
   "source": [
    "text_2 = (\n",
    "    \"Is the following text 'spam'? Answer with 'yes' or 'no':\"\n",
    "    \" 'You are a winner you have been specially\"\n",
    "    \" selected to receive $1000 cash or a $2000 award.'\"\n",
    ")\n",
    "\n",
    "token_ids = aux.generate_text_simple(\n",
    "    model=model,\n",
    "    idx=aux.text_to_token_ids(text_2, tokenizer),\n",
    "    max_new_tokens=75,\n",
    "    context_size=BASE_CONFIG[\"context_length\"],\n",
    ")\n",
    "\n",
    "print(aux.token_ids_to_text(token_ids, tokenizer))"
   ]
  },
  {
   "cell_type": "markdown",
   "id": "a866779b",
   "metadata": {},
   "source": [
    "## Adding a Classification Head"
   ]
  },
  {
   "cell_type": "code",
   "execution_count": 31,
   "id": "1231ad08",
   "metadata": {},
   "outputs": [
    {
     "name": "stdout",
     "output_type": "stream",
     "text": [
      "GPTModel(\n",
      "  (tok_emb): Embedding(50257, 768)\n",
      "  (pos_emb): Embedding(1024, 768)\n",
      "  (drop_emb): Dropout(p=0.0, inplace=False)\n",
      "  (trf_blocks): Sequential(\n",
      "    (0): TransformerBlock(\n",
      "      (att): MultiHeadAttention(\n",
      "        (W_query): Linear(in_features=768, out_features=768, bias=True)\n",
      "        (W_key): Linear(in_features=768, out_features=768, bias=True)\n",
      "        (W_value): Linear(in_features=768, out_features=768, bias=True)\n",
      "        (out_proj): Linear(in_features=768, out_features=768, bias=True)\n",
      "        (dropout): Dropout(p=0.0, inplace=False)\n",
      "      )\n",
      "      (ff): FeedForward(\n",
      "        (layers): Sequential(\n",
      "          (0): Linear(in_features=768, out_features=3072, bias=True)\n",
      "          (1): GELU()\n",
      "          (2): Linear(in_features=3072, out_features=768, bias=True)\n",
      "        )\n",
      "      )\n",
      "      (norm1): LayerNorm()\n",
      "      (norm2): LayerNorm()\n",
      "      (drop_shortcut): Dropout(p=0.0, inplace=False)\n",
      "    )\n",
      "    (1): TransformerBlock(\n",
      "      (att): MultiHeadAttention(\n",
      "        (W_query): Linear(in_features=768, out_features=768, bias=True)\n",
      "        (W_key): Linear(in_features=768, out_features=768, bias=True)\n",
      "        (W_value): Linear(in_features=768, out_features=768, bias=True)\n",
      "        (out_proj): Linear(in_features=768, out_features=768, bias=True)\n",
      "        (dropout): Dropout(p=0.0, inplace=False)\n",
      "      )\n",
      "      (ff): FeedForward(\n",
      "        (layers): Sequential(\n",
      "          (0): Linear(in_features=768, out_features=3072, bias=True)\n",
      "          (1): GELU()\n",
      "          (2): Linear(in_features=3072, out_features=768, bias=True)\n",
      "        )\n",
      "      )\n",
      "      (norm1): LayerNorm()\n",
      "      (norm2): LayerNorm()\n",
      "      (drop_shortcut): Dropout(p=0.0, inplace=False)\n",
      "    )\n",
      "    (2): TransformerBlock(\n",
      "      (att): MultiHeadAttention(\n",
      "        (W_query): Linear(in_features=768, out_features=768, bias=True)\n",
      "        (W_key): Linear(in_features=768, out_features=768, bias=True)\n",
      "        (W_value): Linear(in_features=768, out_features=768, bias=True)\n",
      "        (out_proj): Linear(in_features=768, out_features=768, bias=True)\n",
      "        (dropout): Dropout(p=0.0, inplace=False)\n",
      "      )\n",
      "      (ff): FeedForward(\n",
      "        (layers): Sequential(\n",
      "          (0): Linear(in_features=768, out_features=3072, bias=True)\n",
      "          (1): GELU()\n",
      "          (2): Linear(in_features=3072, out_features=768, bias=True)\n",
      "        )\n",
      "      )\n",
      "      (norm1): LayerNorm()\n",
      "      (norm2): LayerNorm()\n",
      "      (drop_shortcut): Dropout(p=0.0, inplace=False)\n",
      "    )\n",
      "    (3): TransformerBlock(\n",
      "      (att): MultiHeadAttention(\n",
      "        (W_query): Linear(in_features=768, out_features=768, bias=True)\n",
      "        (W_key): Linear(in_features=768, out_features=768, bias=True)\n",
      "        (W_value): Linear(in_features=768, out_features=768, bias=True)\n",
      "        (out_proj): Linear(in_features=768, out_features=768, bias=True)\n",
      "        (dropout): Dropout(p=0.0, inplace=False)\n",
      "      )\n",
      "      (ff): FeedForward(\n",
      "        (layers): Sequential(\n",
      "          (0): Linear(in_features=768, out_features=3072, bias=True)\n",
      "          (1): GELU()\n",
      "          (2): Linear(in_features=3072, out_features=768, bias=True)\n",
      "        )\n",
      "      )\n",
      "      (norm1): LayerNorm()\n",
      "      (norm2): LayerNorm()\n",
      "      (drop_shortcut): Dropout(p=0.0, inplace=False)\n",
      "    )\n",
      "    (4): TransformerBlock(\n",
      "      (att): MultiHeadAttention(\n",
      "        (W_query): Linear(in_features=768, out_features=768, bias=True)\n",
      "        (W_key): Linear(in_features=768, out_features=768, bias=True)\n",
      "        (W_value): Linear(in_features=768, out_features=768, bias=True)\n",
      "        (out_proj): Linear(in_features=768, out_features=768, bias=True)\n",
      "        (dropout): Dropout(p=0.0, inplace=False)\n",
      "      )\n",
      "      (ff): FeedForward(\n",
      "        (layers): Sequential(\n",
      "          (0): Linear(in_features=768, out_features=3072, bias=True)\n",
      "          (1): GELU()\n",
      "          (2): Linear(in_features=3072, out_features=768, bias=True)\n",
      "        )\n",
      "      )\n",
      "      (norm1): LayerNorm()\n",
      "      (norm2): LayerNorm()\n",
      "      (drop_shortcut): Dropout(p=0.0, inplace=False)\n",
      "    )\n",
      "    (5): TransformerBlock(\n",
      "      (att): MultiHeadAttention(\n",
      "        (W_query): Linear(in_features=768, out_features=768, bias=True)\n",
      "        (W_key): Linear(in_features=768, out_features=768, bias=True)\n",
      "        (W_value): Linear(in_features=768, out_features=768, bias=True)\n",
      "        (out_proj): Linear(in_features=768, out_features=768, bias=True)\n",
      "        (dropout): Dropout(p=0.0, inplace=False)\n",
      "      )\n",
      "      (ff): FeedForward(\n",
      "        (layers): Sequential(\n",
      "          (0): Linear(in_features=768, out_features=3072, bias=True)\n",
      "          (1): GELU()\n",
      "          (2): Linear(in_features=3072, out_features=768, bias=True)\n",
      "        )\n",
      "      )\n",
      "      (norm1): LayerNorm()\n",
      "      (norm2): LayerNorm()\n",
      "      (drop_shortcut): Dropout(p=0.0, inplace=False)\n",
      "    )\n",
      "    (6): TransformerBlock(\n",
      "      (att): MultiHeadAttention(\n",
      "        (W_query): Linear(in_features=768, out_features=768, bias=True)\n",
      "        (W_key): Linear(in_features=768, out_features=768, bias=True)\n",
      "        (W_value): Linear(in_features=768, out_features=768, bias=True)\n",
      "        (out_proj): Linear(in_features=768, out_features=768, bias=True)\n",
      "        (dropout): Dropout(p=0.0, inplace=False)\n",
      "      )\n",
      "      (ff): FeedForward(\n",
      "        (layers): Sequential(\n",
      "          (0): Linear(in_features=768, out_features=3072, bias=True)\n",
      "          (1): GELU()\n",
      "          (2): Linear(in_features=3072, out_features=768, bias=True)\n",
      "        )\n",
      "      )\n",
      "      (norm1): LayerNorm()\n",
      "      (norm2): LayerNorm()\n",
      "      (drop_shortcut): Dropout(p=0.0, inplace=False)\n",
      "    )\n",
      "    (7): TransformerBlock(\n",
      "      (att): MultiHeadAttention(\n",
      "        (W_query): Linear(in_features=768, out_features=768, bias=True)\n",
      "        (W_key): Linear(in_features=768, out_features=768, bias=True)\n",
      "        (W_value): Linear(in_features=768, out_features=768, bias=True)\n",
      "        (out_proj): Linear(in_features=768, out_features=768, bias=True)\n",
      "        (dropout): Dropout(p=0.0, inplace=False)\n",
      "      )\n",
      "      (ff): FeedForward(\n",
      "        (layers): Sequential(\n",
      "          (0): Linear(in_features=768, out_features=3072, bias=True)\n",
      "          (1): GELU()\n",
      "          (2): Linear(in_features=3072, out_features=768, bias=True)\n",
      "        )\n",
      "      )\n",
      "      (norm1): LayerNorm()\n",
      "      (norm2): LayerNorm()\n",
      "      (drop_shortcut): Dropout(p=0.0, inplace=False)\n",
      "    )\n",
      "    (8): TransformerBlock(\n",
      "      (att): MultiHeadAttention(\n",
      "        (W_query): Linear(in_features=768, out_features=768, bias=True)\n",
      "        (W_key): Linear(in_features=768, out_features=768, bias=True)\n",
      "        (W_value): Linear(in_features=768, out_features=768, bias=True)\n",
      "        (out_proj): Linear(in_features=768, out_features=768, bias=True)\n",
      "        (dropout): Dropout(p=0.0, inplace=False)\n",
      "      )\n",
      "      (ff): FeedForward(\n",
      "        (layers): Sequential(\n",
      "          (0): Linear(in_features=768, out_features=3072, bias=True)\n",
      "          (1): GELU()\n",
      "          (2): Linear(in_features=3072, out_features=768, bias=True)\n",
      "        )\n",
      "      )\n",
      "      (norm1): LayerNorm()\n",
      "      (norm2): LayerNorm()\n",
      "      (drop_shortcut): Dropout(p=0.0, inplace=False)\n",
      "    )\n",
      "    (9): TransformerBlock(\n",
      "      (att): MultiHeadAttention(\n",
      "        (W_query): Linear(in_features=768, out_features=768, bias=True)\n",
      "        (W_key): Linear(in_features=768, out_features=768, bias=True)\n",
      "        (W_value): Linear(in_features=768, out_features=768, bias=True)\n",
      "        (out_proj): Linear(in_features=768, out_features=768, bias=True)\n",
      "        (dropout): Dropout(p=0.0, inplace=False)\n",
      "      )\n",
      "      (ff): FeedForward(\n",
      "        (layers): Sequential(\n",
      "          (0): Linear(in_features=768, out_features=3072, bias=True)\n",
      "          (1): GELU()\n",
      "          (2): Linear(in_features=3072, out_features=768, bias=True)\n",
      "        )\n",
      "      )\n",
      "      (norm1): LayerNorm()\n",
      "      (norm2): LayerNorm()\n",
      "      (drop_shortcut): Dropout(p=0.0, inplace=False)\n",
      "    )\n",
      "    (10): TransformerBlock(\n",
      "      (att): MultiHeadAttention(\n",
      "        (W_query): Linear(in_features=768, out_features=768, bias=True)\n",
      "        (W_key): Linear(in_features=768, out_features=768, bias=True)\n",
      "        (W_value): Linear(in_features=768, out_features=768, bias=True)\n",
      "        (out_proj): Linear(in_features=768, out_features=768, bias=True)\n",
      "        (dropout): Dropout(p=0.0, inplace=False)\n",
      "      )\n",
      "      (ff): FeedForward(\n",
      "        (layers): Sequential(\n",
      "          (0): Linear(in_features=768, out_features=3072, bias=True)\n",
      "          (1): GELU()\n",
      "          (2): Linear(in_features=3072, out_features=768, bias=True)\n",
      "        )\n",
      "      )\n",
      "      (norm1): LayerNorm()\n",
      "      (norm2): LayerNorm()\n",
      "      (drop_shortcut): Dropout(p=0.0, inplace=False)\n",
      "    )\n",
      "    (11): TransformerBlock(\n",
      "      (att): MultiHeadAttention(\n",
      "        (W_query): Linear(in_features=768, out_features=768, bias=True)\n",
      "        (W_key): Linear(in_features=768, out_features=768, bias=True)\n",
      "        (W_value): Linear(in_features=768, out_features=768, bias=True)\n",
      "        (out_proj): Linear(in_features=768, out_features=768, bias=True)\n",
      "        (dropout): Dropout(p=0.0, inplace=False)\n",
      "      )\n",
      "      (ff): FeedForward(\n",
      "        (layers): Sequential(\n",
      "          (0): Linear(in_features=768, out_features=3072, bias=True)\n",
      "          (1): GELU()\n",
      "          (2): Linear(in_features=3072, out_features=768, bias=True)\n",
      "        )\n",
      "      )\n",
      "      (norm1): LayerNorm()\n",
      "      (norm2): LayerNorm()\n",
      "      (drop_shortcut): Dropout(p=0.0, inplace=False)\n",
      "    )\n",
      "  )\n",
      "  (final_norm): LayerNorm()\n",
      "  (out_head): Linear(in_features=768, out_features=50257, bias=False)\n",
      ")\n"
     ]
    }
   ],
   "source": [
    "print(model)"
   ]
  },
  {
   "cell_type": "code",
   "execution_count": 32,
   "id": "8c765806",
   "metadata": {},
   "outputs": [],
   "source": [
    "# Make all layers nontrainable. Freeze the model.\n",
    "for param in model.parameters():\n",
    "    param.requires_grad = False"
   ]
  },
  {
   "cell_type": "code",
   "execution_count": 33,
   "id": "5c2a2f90",
   "metadata": {},
   "outputs": [],
   "source": [
    "torch.manual_seed(123)\n",
    "num_classes = 2\n",
    "\n",
    "# This new `model.out_head` output layer has its `requires_grad` attribute set to True by default,\n",
    "# which means that it’s the only layer in the model that will be updated during training.\n",
    "model.out_head = torch.nn.Linear(\n",
    "    in_features=BASE_CONFIG[\"emb_dim\"], out_features=num_classes, bias=True\n",
    ")"
   ]
  },
  {
   "cell_type": "code",
   "execution_count": 34,
   "id": "1483a1d8",
   "metadata": {},
   "outputs": [],
   "source": [
    "# Last transformer block trainable.\n",
    "for param in model.trf_blocks[-1].parameters():\n",
    "    param.requires_grad = True\n",
    "\n",
    "# Last normalization layer trainable.\n",
    "for param in model.final_norm.parameters():\n",
    "    param.requires_grad = True"
   ]
  },
  {
   "cell_type": "code",
   "execution_count": 35,
   "id": "54722b6d",
   "metadata": {},
   "outputs": [
    {
     "name": "stdout",
     "output_type": "stream",
     "text": [
      ">>> Inputs: tensor([[5211,  345,  423,  640]])\n",
      ">>> Inputs dimensions: torch.Size([1, 4])\n"
     ]
    }
   ],
   "source": [
    "inputs = tokenizer.encode(\"Do you have time\")\n",
    "inputs = torch.tensor(inputs).unsqueeze(0)\n",
    "\n",
    "print(\">>> Inputs:\", inputs)\n",
    "print(\">>> Inputs dimensions:\", inputs.shape)  # shape: (batch_size, num_tokens)"
   ]
  },
  {
   "cell_type": "code",
   "execution_count": 36,
   "id": "b82cddf7",
   "metadata": {},
   "outputs": [
    {
     "name": "stdout",
     "output_type": "stream",
     "text": [
      ">>> Outputs:\n",
      " tensor([[[-1.5847,  0.9897],\n",
      "         [-3.7233,  7.4538],\n",
      "         [-2.2661,  6.6043],\n",
      "         [-3.5980,  3.9901]]])\n",
      ">>> Outputs dimensions: torch.Size([1, 4, 2])\n"
     ]
    }
   ],
   "source": [
    "# Forward pass through the model.\n",
    "with torch.no_grad():\n",
    "    outputs = model(inputs)\n",
    "\n",
    "print(\">>> Outputs:\\n\", outputs)\n",
    "print(\">>> Outputs dimensions:\", outputs.shape)"
   ]
  },
  {
   "cell_type": "code",
   "execution_count": 37,
   "id": "ea8ccade",
   "metadata": {},
   "outputs": [
    {
     "name": "stdout",
     "output_type": "stream",
     "text": [
      ">>> Last output token: tensor([[-3.5980,  3.9901]])\n"
     ]
    }
   ],
   "source": [
    "print(\">>> Last output token:\", outputs[:, -1, :])"
   ]
  },
  {
   "cell_type": "markdown",
   "id": "487aecaa",
   "metadata": {},
   "source": [
    "### Exercise 6.2: Fine-tuning the Whole Model"
   ]
  },
  {
   "cell_type": "code",
   "execution_count": 38,
   "id": "b26bfb77",
   "metadata": {},
   "outputs": [
    {
     "name": "stdout",
     "output_type": "stream",
     "text": [
      ">>> Running on cpu device.\n",
      ">>> Ep 1 (Step  00000): Train loss 2.876, Val loss 2.588\n",
      ">>> Ep 1 (Step  00050): Train loss 0.289, Val loss 0.188\n",
      ">>> Ep 1 (Step  00100): Train loss 0.168, Val loss 0.480\n",
      ">>> Training accuracy:  97.50% | Validation accuracy:  95.00%\n",
      ">>> Ep 2 (Step  00150): Train loss 0.162, Val loss 0.062\n",
      ">>> Ep 2 (Step  00200): Train loss 0.005, Val loss 0.027\n",
      ">>> Ep 2 (Step  00250): Train loss 0.014, Val loss 0.116\n",
      ">>> Training accuracy:  100.00% | Validation accuracy:  95.00%\n",
      ">>> Ep 3 (Step  00300): Train loss 0.006, Val loss 0.114\n",
      ">>> Ep 3 (Step  00350): Train loss 0.002, Val loss 0.132\n",
      ">>> Training accuracy:  100.00% | Validation accuracy:  100.00%\n",
      ">>> Ep 4 (Step  00400): Train loss 0.006, Val loss 0.025\n",
      ">>> Ep 4 (Step  00450): Train loss 0.043, Val loss 0.166\n",
      ">>> Ep 4 (Step  00500): Train loss 0.043, Val loss 0.071\n",
      ">>> Training accuracy:  100.00% | Validation accuracy:  97.50%\n",
      ">>> Ep 5 (Step  00550): Train loss 0.001, Val loss 0.022\n",
      ">>> Ep 5 (Step  00600): Train loss 0.000, Val loss 0.027\n",
      ">>> Training accuracy:  100.00% | Validation accuracy:  100.00%\n",
      ">>> Training completed in 20.92 minutes.\n"
     ]
    }
   ],
   "source": [
    "device: str = torch.device(\"cuda\" if torch.cuda.is_available() else \"cpu\")\n",
    "print(f\">>> Running on {device} device.\")\n",
    "\n",
    "# All layers are now trainable.\n",
    "for param in model.parameters():\n",
    "    param.requires_grad = True\n",
    "\n",
    "start_time = time.time()\n",
    "\n",
    "torch.manual_seed(123)\n",
    "optimizer = torch.optim.AdamW(params=model.parameters(), lr=5e-5, weight_decay=0.1)\n",
    "num_epochs: int = 5\n",
    "\n",
    "train_losses, val_losses, train_accs, val_accs, examples_seen = (\n",
    "    aux.train_classifier_simple(\n",
    "        model=model,\n",
    "        train_loader=train_loader,\n",
    "        val_loader=val_loader,\n",
    "        optimizer=optimizer,\n",
    "        device=device,\n",
    "        num_epochs=num_epochs,\n",
    "        eval_freq=50,\n",
    "        eval_iter=5,\n",
    "    )\n",
    ")\n",
    "end_time = time.time()\n",
    "\n",
    "execution_time_minutes = (end_time - start_time) / 60.0\n",
    "print(f\">>> Training completed in {execution_time_minutes:.2f} minutes.\")"
   ]
  },
  {
   "cell_type": "code",
   "execution_count": 39,
   "id": "ca8c8299",
   "metadata": {},
   "outputs": [
    {
     "name": "stdout",
     "output_type": "stream",
     "text": [
      ">>> Training accuracy: 100.00%\n",
      ">>> Validation accuracy: 98.66%\n",
      ">>> Test accuracy: 98.00%\n"
     ]
    }
   ],
   "source": [
    "train_accuracy = aux.calc_accuracy_loader(train_loader, model, device)\n",
    "val_accuracy = aux.calc_accuracy_loader(val_loader, model, device)\n",
    "test_accuracy = aux.calc_accuracy_loader(test_loader, model, device)\n",
    "\n",
    "print(f\">>> Training accuracy: {train_accuracy * 100:.2f}%\")\n",
    "print(f\">>> Validation accuracy: {val_accuracy * 100:.2f}%\")\n",
    "print(f\">>> Test accuracy: {test_accuracy * 100:.2f}%\")"
   ]
  },
  {
   "cell_type": "markdown",
   "id": "48fc95c7",
   "metadata": {},
   "source": [
    "### Exercise 6.3: Fine-tuning The First vs. Last Token"
   ]
  },
  {
   "cell_type": "markdown",
   "id": "02fdcaa5",
   "metadata": {},
   "source": [
    "## Calculating the Classification Loss and Accuracy"
   ]
  },
  {
   "cell_type": "code",
   "execution_count": 40,
   "id": "69a793bc",
   "metadata": {},
   "outputs": [
    {
     "name": "stdout",
     "output_type": "stream",
     "text": [
      ">>> Class label: 1\n"
     ]
    }
   ],
   "source": [
    "probas = torch.softmax(outputs[:, -1, :], dim=-1)\n",
    "label = torch.argmax(probas)\n",
    "print(\">>> Class label:\", label.item())"
   ]
  },
  {
   "cell_type": "code",
   "execution_count": 41,
   "id": "f1480a33",
   "metadata": {},
   "outputs": [
    {
     "name": "stdout",
     "output_type": "stream",
     "text": [
      ">>> Running on cpu device.\n",
      ">>> Training accuracy: 100.00%\n",
      ">>> Validation accuracy: 100.00%\n",
      ">>> Test accuracy: 97.50%\n"
     ]
    }
   ],
   "source": [
    "print(f\">>> Running on {device} device.\")\n",
    "\n",
    "model.to(device)\n",
    "\n",
    "# For reproducibility due to the shuffling in the training data loader.\n",
    "torch.manual_seed(123)\n",
    "\n",
    "train_accuracy = aux.calc_accuracy_loader(train_loader, model, device, num_batches=10)\n",
    "val_accuracy = aux.calc_accuracy_loader(val_loader, model, device, num_batches=10)\n",
    "test_accuracy = aux.calc_accuracy_loader(test_loader, model, device, num_batches=10)\n",
    "\n",
    "print(f\">>> Training accuracy: {train_accuracy*100:.2f}%\")\n",
    "print(f\">>> Validation accuracy: {val_accuracy*100:.2f}%\")\n",
    "print(f\">>> Test accuracy: {test_accuracy*100:.2f}%\")"
   ]
  },
  {
   "cell_type": "code",
   "execution_count": 42,
   "id": "8146bd4c",
   "metadata": {},
   "outputs": [
    {
     "name": "stdout",
     "output_type": "stream",
     "text": [
      ">>> Training loss: 0.000\n",
      ">>> Validation loss: 0.013\n",
      ">>> Test loss: 0.396\n"
     ]
    }
   ],
   "source": [
    "# No grad means that we are not calculating gradients, which saves memory and speeds up the computation.\n",
    "with torch.no_grad():\n",
    "\n",
    "    # Calculate the loss for the training, validation, and test sets.\n",
    "    # Note: num_batches is set to 5 for faster computation in this example.\n",
    "    # In practice, you might want to set it to the total number of batches.\n",
    "    train_loss = aux.calc_loss_loader(\n",
    "        data_loader=train_loader, model=model, device=device, num_batches=5\n",
    "    )\n",
    "    val_loss = aux.calc_loss_loader(\n",
    "        data_loader=val_loader, model=model, device=device, num_batches=5\n",
    "    )\n",
    "    test_loss = aux.calc_loss_loader(\n",
    "        data_loader=test_loader, model=model, device=device, num_batches=5\n",
    "    )\n",
    "\n",
    "print(f\">>> Training loss: {train_loss:.3f}\")\n",
    "print(f\">>> Validation loss: {val_loss:.3f}\")\n",
    "print(f\">>> Test loss: {test_loss:.3f}\")"
   ]
  },
  {
   "cell_type": "code",
   "execution_count": 43,
   "id": "afc9d9f9",
   "metadata": {},
   "outputs": [
    {
     "data": {
      "image/png": "[encoded data removed]",
      "text/plain": [
       "<Figure size 640x480 with 1 Axes>"
      ]
     },
     "metadata": {},
     "output_type": "display_data"
    }
   ],
   "source": [
    "# Cross entropy for two classes.\n",
    "pp = np.linspace(0.01, 0.99, 1000)\n",
    "pn = 1 - pp\n",
    "ps = np.stack([pp, pn], axis=1)\n",
    "cross_entropy_loss1 = (-1) * (1 * np.log(pp) + (1 - 1) * np.log(1 - pp))\n",
    "cross_entropy_loss0 = (-1) * (0 * np.log(pp) + (1 - 0) * np.log(1 - pp))\n",
    "plt.plot(pp, cross_entropy_loss1, label=f\"Cross entropy loss for true label {1}\")\n",
    "plt.plot(pp, cross_entropy_loss0, label=f\"Cross entropy loss for true label {0}\")\n",
    "plt.xlabel(\"Predicted probability for class 1\")\n",
    "plt.ylabel(\"Cross entropy loss\")\n",
    "plt.title(\"Cross entropy loss for two classes\")\n",
    "plt.xlim(0, 1)\n",
    "plt.legend();"
   ]
  },
  {
   "cell_type": "markdown",
   "id": "a8649c3b",
   "metadata": {},
   "source": [
    "## Fine-tuning the Model on Supervised Data"
   ]
  },
  {
   "cell_type": "code",
   "execution_count": 46,
   "id": "006379ca",
   "metadata": {},
   "outputs": [
    {
     "name": "stdout",
     "output_type": "stream",
     "text": [
      "File already exists and is up-to-date: gpt2/124M/checkpoint\n",
      "File already exists and is up-to-date: gpt2/124M/encoder.json\n",
      "File already exists and is up-to-date: gpt2/124M/hparams.json\n",
      "File already exists and is up-to-date: gpt2/124M/model.ckpt.data-00000-of-00001\n",
      "File already exists and is up-to-date: gpt2/124M/model.ckpt.index\n",
      "File already exists and is up-to-date: gpt2/124M/model.ckpt.meta\n",
      "File already exists and is up-to-date: gpt2/124M/vocab.bpe\n"
     ]
    }
   ],
   "source": [
    "model_size = CHOOSE_MODEL.split(\" \")[-1].lstrip(\"(\").rstrip(\")\")\n",
    "model_size\n",
    "\n",
    "settings, params = download_and_load_gpt2(model_size=model_size, models_dir=\"gpt2\")\n",
    "\n",
    "model = aux.GPTModel(BASE_CONFIG)\n",
    "aux.load_weights_into_gpt(model, params)\n",
    "\n",
    "# In evaluation mode, dropout layers are disabled and the model\n",
    "# behaves deterministically.\n",
    "_ = model.eval();"
   ]
  },
  {
   "cell_type": "code",
   "execution_count": 47,
   "id": "5aeade93",
   "metadata": {},
   "outputs": [],
   "source": [
    "# None of the layers are trainable at this point.\n",
    "for params in model.parameters():\n",
    "    params.requires_grad = False\n",
    "\n",
    "# Last transformer block trainable.\n",
    "for param in model.trf_blocks[-1].parameters():\n",
    "    param.requires_grad = True\n",
    "\n",
    "# Last normalization layer trainable.\n",
    "for param in model.final_norm.parameters():\n",
    "    param.requires_grad = True"
   ]
  },
  {
   "cell_type": "code",
   "execution_count": 48,
   "id": "57792b98",
   "metadata": {},
   "outputs": [
    {
     "name": "stdout",
     "output_type": "stream",
     "text": [
      ">>> Ep 1 (Step  00000): Train loss 7.483, Val loss 7.801\n",
      ">>> Ep 1 (Step  00050): Train loss 0.926, Val loss 0.924\n",
      ">>> Ep 1 (Step  00100): Train loss 0.548, Val loss 0.602\n",
      ">>> Training accuracy:  80.00% | Validation accuracy:  80.00%\n",
      ">>> Ep 2 (Step  00150): Train loss 0.548, Val loss 0.463\n",
      ">>> Ep 2 (Step  00200): Train loss 0.195, Val loss 0.244\n",
      ">>> Ep 2 (Step  00250): Train loss 0.080, Val loss 0.161\n",
      ">>> Training accuracy:  95.00% | Validation accuracy:  92.50%\n",
      ">>> Ep 3 (Step  00300): Train loss 0.176, Val loss 0.173\n",
      ">>> Ep 3 (Step  00350): Train loss 0.123, Val loss 0.103\n",
      ">>> Training accuracy:  97.50% | Validation accuracy:  95.00%\n",
      ">>> Ep 4 (Step  00400): Train loss 0.033, Val loss 0.117\n",
      ">>> Ep 4 (Step  00450): Train loss 0.074, Val loss 0.070\n",
      ">>> Ep 4 (Step  00500): Train loss 0.156, Val loss 0.098\n",
      ">>> Training accuracy:  100.00% | Validation accuracy:  97.50%\n",
      ">>> Ep 5 (Step  00550): Train loss 0.152, Val loss 0.131\n",
      ">>> Ep 5 (Step  00600): Train loss 0.040, Val loss 0.055\n",
      ">>> Training accuracy:  100.00% | Validation accuracy:  97.50%\n",
      ">>> Training completed in 12.66 minutes.\n"
     ]
    }
   ],
   "source": [
    "start_time = time.time()\n",
    "\n",
    "torch.manual_seed(123)\n",
    "\n",
    "optimizer = torch.optim.AdamW(params=model.parameters(), lr=5e-5, weight_decay=0.1)\n",
    "\n",
    "num_epochs: int = 5\n",
    "train_losses, val_losses, train_accs, val_accs, examples_seen = (\n",
    "    aux.train_classifier_simple(\n",
    "        model=model,\n",
    "        train_loader=train_loader,\n",
    "        val_loader=val_loader,\n",
    "        optimizer=optimizer,\n",
    "        device=device,\n",
    "        num_epochs=num_epochs,\n",
    "        eval_freq=50,\n",
    "        eval_iter=5,\n",
    "    )\n",
    ")\n",
    "end_time = time.time()\n",
    "\n",
    "execution_time_minutes = (end_time - start_time) / 60.0\n",
    "print(f\">>> Training completed in {execution_time_minutes:.2f} minutes.\")"
   ]
  },
  {
   "cell_type": "code",
   "execution_count": 49,
   "id": "d153244c",
   "metadata": {},
   "outputs": [],
   "source": [
    "def plot_values(epochs_seen, examples_seen, train_values, val_values, label=\"loss\"):\n",
    "\n",
    "    fig, ax1 = plt.subplots(figsize=(9, 3))\n",
    "\n",
    "    # Plot training and validation loss against epochs.\n",
    "    ax1.plot(epochs_seen, train_values, marker=\".\", label=f\"Training {label}\")\n",
    "    ax1.plot(\n",
    "        epochs_seen, val_values, marker=\".\", linestyle=\"-.\", label=f\"Validation {label}\"\n",
    "    )\n",
    "    ax1.set_xlabel(\"Epochs\")\n",
    "    ax1.set_ylabel(label.capitalize())\n",
    "    ax1.legend()\n",
    "\n",
    "    # Create a second x-axis for examples seen.\n",
    "    ax2 = ax1.twiny()  # Create a second x-axis that shares the same y-axis.\n",
    "    ax2.plot(examples_seen, train_values, alpha=0)  # Invisible plot for aligning ticks.\n",
    "    ax2.set_xlabel(\"Examples seen\")\n",
    "\n",
    "    fig.tight_layout()\n",
    "    plt.show()"
   ]
  },
  {
   "cell_type": "code",
   "execution_count": 50,
   "id": "b0e494fd",
   "metadata": {},
   "outputs": [
    {
     "data": {
      "image/png": "[encoded data removed]",
      "text/plain": [
       "<Figure size 900x300 with 2 Axes>"
      ]
     },
     "metadata": {},
     "output_type": "display_data"
    }
   ],
   "source": [
    "epochs_tensor = torch.linspace(0, num_epochs, len(train_losses))\n",
    "examples_seen_tensor = torch.linspace(0, examples_seen, len(train_losses))\n",
    "\n",
    "plot_values(epochs_tensor, examples_seen_tensor, train_losses, val_losses)"
   ]
  },
  {
   "cell_type": "code",
   "execution_count": 51,
   "id": "a2cb38bc",
   "metadata": {},
   "outputs": [
    {
     "data": {
      "image/png": "[encoded data removed]",
      "text/plain": [
       "<Figure size 900x300 with 2 Axes>"
      ]
     },
     "metadata": {},
     "output_type": "display_data"
    }
   ],
   "source": [
    "epochs_tensor = torch.linspace(0, num_epochs, len(train_accs))\n",
    "examples_seen_tensor = torch.linspace(0, examples_seen, len(train_accs))\n",
    "\n",
    "plot_values(epochs_tensor, examples_seen_tensor, train_accs, val_accs, label=\"accuracy\")"
   ]
  },
  {
   "cell_type": "code",
   "execution_count": 52,
   "id": "e73692f1",
   "metadata": {},
   "outputs": [
    {
     "name": "stdout",
     "output_type": "stream",
     "text": [
      ">>> Training accuracy: 97.50%\n",
      ">>> Validation accuracy: 97.99%\n",
      ">>> Test accuracy: 96.33%\n"
     ]
    }
   ],
   "source": [
    "train_accuracy = aux.calc_accuracy_loader(train_loader, model, device)\n",
    "val_accuracy = aux.calc_accuracy_loader(val_loader, model, device)\n",
    "test_accuracy = aux.calc_accuracy_loader(test_loader, model, device)\n",
    "\n",
    "print(f\">>> Training accuracy: {train_accuracy * 100:.2f}%\")\n",
    "print(f\">>> Validation accuracy: {val_accuracy * 100:.2f}%\")\n",
    "print(f\">>> Test accuracy: {test_accuracy * 100:.2f}%\")"
   ]
  },
  {
   "cell_type": "markdown",
   "id": "b462be76",
   "metadata": {},
   "source": [
    "## Using the LLM as a Spam Classifier"
   ]
  },
  {
   "cell_type": "code",
   "execution_count": 53,
   "id": "72569e0d",
   "metadata": {},
   "outputs": [
    {
     "name": "stdout",
     "output_type": "stream",
     "text": [
      "spam\n"
     ]
    }
   ],
   "source": [
    "text_1 = (\n",
    "    \"You are a winner you have been specially\"\n",
    "    \" selected to receive $1000 cash or a $2000 award.\"\n",
    ")\n",
    "\n",
    "print(\n",
    "    aux.classify_review(\n",
    "        text=text_1,\n",
    "        model=model,\n",
    "        tokenizer=tokenizer,\n",
    "        device=device,\n",
    "        max_length=train_dataset.max_length,\n",
    "    )\n",
    ")"
   ]
  },
  {
   "cell_type": "code",
   "execution_count": 54,
   "id": "54f8f8f5",
   "metadata": {},
   "outputs": [
    {
     "name": "stdout",
     "output_type": "stream",
     "text": [
      "not spam\n"
     ]
    }
   ],
   "source": [
    "text_2 = (\n",
    "    \"Hey, just wanted to check if we're still on\" \" for dinner tonight? Let me know!\"\n",
    ")\n",
    "\n",
    "print(\n",
    "    aux.classify_review(\n",
    "        text=text_2,\n",
    "        model=model,\n",
    "        tokenizer=tokenizer,\n",
    "        device=device,\n",
    "        max_length=train_dataset.max_length,\n",
    "    )\n",
    ")"
   ]
  },
  {
   "cell_type": "code",
   "execution_count": 55,
   "id": "f1c6f364",
   "metadata": {},
   "outputs": [],
   "source": [
    "model_file_path: str = os.path.join(\"/llm_app/models\", \"model_chapter6.pth\")\n",
    "torch.save(model.state_dict(), model_file_path)"
   ]
  },
  {
   "cell_type": "code",
   "execution_count": 56,
   "id": "591936b7",
   "metadata": {},
   "outputs": [
    {
     "data": {
      "text/plain": [
       "<All keys matched successfully>"
      ]
     },
     "execution_count": 56,
     "metadata": {},
     "output_type": "execute_result"
    }
   ],
   "source": [
    "model_state_dict = torch.load(model_file_path, map_location=device, weights_only=True)\n",
    "model.load_state_dict(model_state_dict)"
   ]
  }
 ],
 "metadata": {
  "kernelspec": {
   "display_name": "Python 3 (ipykernel)",
   "language": "python",
   "name": "python3"
  },
  "language_info": {
   "codemirror_mode": {
    "name": "ipython",
    "version": 3
   },
   "file_extension": ".py",
   "mimetype": "text/x-python",
   "name": "python",
   "nbconvert_exporter": "python",
   "pygments_lexer": "ipython3",
   "version": "3.10.12"
  }
 },
 "nbformat": 4,
 "nbformat_minor": 5
}
