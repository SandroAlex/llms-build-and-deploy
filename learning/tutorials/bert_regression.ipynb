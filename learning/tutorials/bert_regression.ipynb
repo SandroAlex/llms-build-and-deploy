{
 "cells": [
  {
   "cell_type": "markdown",
   "metadata": {},
   "source": [
    "# Regression with Text Input Using BERT and Transformers"
   ]
  },
  {
   "cell_type": "markdown",
   "metadata": {},
   "source": [
    "- Based on this [medium blog post](https://lajavaness.medium.com/regression-with-text-input-using-bert-and-transformers-71c155034b13);"
   ]
  },
  {
   "cell_type": "markdown",
   "metadata": {},
   "source": [
    "## Setup"
   ]
  },
  {
   "cell_type": "code",
   "execution_count": 1,
   "metadata": {},
   "outputs": [
    {
     "name": "stdout",
     "output_type": "stream",
     "text": [
      "CPU times: user 2.15 s, sys: 804 ms, total: 2.95 s\n",
      "Wall time: 9.33 s\n"
     ]
    }
   ],
   "source": [
    "%%time\n",
    "\n",
    "# Load packages.\n",
    "import math\n",
    "import torch\n",
    "\n",
    "import numpy as np\n",
    "import pandas as pd\n",
    "\n",
    "from matplotlib import pyplot as plt\n",
    "\n",
    "from datasets import Dataset\n",
    "from transformers import (\n",
    "    AutoTokenizer,\n",
    "    AutoModelForSequenceClassification,\n",
    "    DataCollatorWithPadding,\n",
    "    TrainingArguments,\n",
    "    Trainer,\n",
    ")\n",
    "from evaluate.loading import load\n",
    "from torch.utils.data import DataLoader\n",
    "\n",
    "from sklearn.metrics import mean_absolute_error\n",
    "from sklearn.metrics import mean_squared_error\n",
    "from sklearn.metrics import r2_score\n",
    "from sklearn.metrics import confusion_matrix"
   ]
  },
  {
   "cell_type": "code",
   "execution_count": 2,
   "metadata": {},
   "outputs": [],
   "source": [
    "# Clear the GPU cache to free up memory.\n",
    "torch.cuda.empty_cache()"
   ]
  },
  {
   "cell_type": "markdown",
   "metadata": {},
   "source": [
    "## Dataset"
   ]
  },
  {
   "cell_type": "markdown",
   "metadata": {},
   "source": [
    "### Download"
   ]
  },
  {
   "cell_type": "code",
   "execution_count": 3,
   "metadata": {},
   "outputs": [
    {
     "name": "stdout",
     "output_type": "stream",
     "text": [
      "/llm_app\n"
     ]
    }
   ],
   "source": [
    "!pwd"
   ]
  },
  {
   "cell_type": "code",
   "execution_count": 4,
   "metadata": {},
   "outputs": [
    {
     "name": "stdout",
     "output_type": "stream",
     "text": [
      "--2025-01-09 19:58:43--  https://gist.githubusercontent.com/ljnmedium/177b80072f04d1ed6f1ca127c053881a/raw/a8c9985abea89abb9f7d75a788206c1324d7fe1c/nhutljn-regression-sentiments.train.jsonlines\n",
      "Resolving usaeast-proxy.us.experian.eeca (usaeast-proxy.us.experian.eeca)... 10.28.246.55, 10.28.246.14, 10.28.246.78\n",
      "Connecting to usaeast-proxy.us.experian.eeca (usaeast-proxy.us.experian.eeca)|10.28.246.55|:9595... connected.\n",
      "Proxy request sent, awaiting response... 200 OK\n",
      "Length: 245947 (240K) [text/plain]\n",
      "Saving to: ‘/llm_app/notebooks/tutorials/regression-sentiments.train.jsonlines’\n",
      "\n",
      "          /llm_app/   0%[                    ]       0  --.-KB/s               "
     ]
    },
    {
     "name": "stdout",
     "output_type": "stream",
     "text": [
      "/llm_app/notebooks/ 100%[===================>] 240.18K  --.-KB/s    in 0.03s   \n",
      "\n",
      "2025-01-09 19:58:43 (6.89 MB/s) - ‘/llm_app/notebooks/tutorials/regression-sentiments.train.jsonlines’ saved [245947/245947]\n",
      "\n"
     ]
    }
   ],
   "source": [
    "!wget \\\n",
    "    https://gist.githubusercontent.com/ljnmedium/177b80072f04d1ed6f1ca127c053881a/raw/a8c9985abea89abb9f7d75a788206c1324d7fe1c/nhutljn-regression-sentiments.train.jsonlines \\\n",
    "    -O /llm_app/notebooks/tutorials/regression-sentiments.train.jsonlines\n"
   ]
  },
  {
   "cell_type": "code",
   "execution_count": 5,
   "metadata": {},
   "outputs": [
    {
     "name": "stdout",
     "output_type": "stream",
     "text": [
      "--2025-01-09 19:58:44--  https://gist.githubusercontent.com/ljnmedium/94b5ea0a383976e5b40a2d2a85dadf40/raw/a37f5e81db3aac36d4d0eb8d98f0a22758fc283b/nhutljn-regression-sentiments.validation.jsonlines\n",
      "Resolving usaeast-proxy.us.experian.eeca (usaeast-proxy.us.experian.eeca)... 10.28.246.78, 10.28.246.55, 10.28.246.14\n",
      "Connecting to usaeast-proxy.us.experian.eeca (usaeast-proxy.us.experian.eeca)|10.28.246.78|:9595... connected.\n",
      "Proxy request sent, awaiting response... 200 OK\n",
      "Length: 53162 (52K) [text/plain]\n",
      "Saving to: ‘/llm_app/notebooks/tutorials/regression-sentiments.validation.jsonlines’\n",
      "\n",
      "/llm_app/notebooks/ 100%[===================>]  51.92K  --.-KB/s    in 0.02s   \n",
      "\n",
      "2025-01-09 19:58:44 (2.95 MB/s) - ‘/llm_app/notebooks/tutorials/regression-sentiments.validation.jsonlines’ saved [53162/53162]\n",
      "\n"
     ]
    }
   ],
   "source": [
    "!wget \\\n",
    "    https://gist.githubusercontent.com/ljnmedium/94b5ea0a383976e5b40a2d2a85dadf40/raw/a37f5e81db3aac36d4d0eb8d98f0a22758fc283b/nhutljn-regression-sentiments.validation.jsonlines \\\n",
    "    -O /llm_app/notebooks/tutorials/regression-sentiments.validation.jsonlines"
   ]
  },
  {
   "cell_type": "code",
   "execution_count": 6,
   "metadata": {},
   "outputs": [
    {
     "name": "stdout",
     "output_type": "stream",
     "text": [
      "--2025-01-09 19:58:44--  https://gist.githubusercontent.com/ljnmedium/d3c5984c62f4df157e85a5d4d6035272/raw/8ec34e678c9255e146c24ec3eae7e16b6e3d1df0/nhutljn-regression-bert-sentiments.test.jsonlines\n",
      "Resolving usaeast-proxy.us.experian.eeca (usaeast-proxy.us.experian.eeca)... 10.28.246.14, 10.28.246.78, 10.28.246.55\n",
      "Connecting to usaeast-proxy.us.experian.eeca (usaeast-proxy.us.experian.eeca)|10.28.246.14|:9595... connected.\n",
      "Proxy request sent, awaiting response... "
     ]
    },
    {
     "name": "stdout",
     "output_type": "stream",
     "text": [
      "200 OK\n",
      "Length: 54424 (53K) [text/plain]\n",
      "Saving to: ‘/llm_app/notebooks/tutorials/regression-sentiments.test.jsonlines’\n",
      "\n",
      "/llm_app/notebooks/ 100%[===================>]  53.15K  --.-KB/s    in 0.01s   \n",
      "\n",
      "2025-01-09 19:58:44 (3.99 MB/s) - ‘/llm_app/notebooks/tutorials/regression-sentiments.test.jsonlines’ saved [54424/54424]\n",
      "\n"
     ]
    }
   ],
   "source": [
    "!wget \\\n",
    "    https://gist.githubusercontent.com/ljnmedium/d3c5984c62f4df157e85a5d4d6035272/raw/8ec34e678c9255e146c24ec3eae7e16b6e3d1df0/nhutljn-regression-bert-sentiments.test.jsonlines \\\n",
    "    -O /llm_app/notebooks/tutorials/regression-sentiments.test.jsonlines"
   ]
  },
  {
   "cell_type": "markdown",
   "metadata": {},
   "source": [
    "### Understanding"
   ]
  },
  {
   "cell_type": "code",
   "execution_count": 7,
   "metadata": {},
   "outputs": [
    {
     "data": {
      "application/vnd.jupyter.widget-view+json": {
       "model_id": "36b89020c3f64879a99e92d79a44b234",
       "version_major": 2,
       "version_minor": 0
      },
      "text/plain": [
       "Generating train split: 0 examples [00:00, ? examples/s]"
      ]
     },
     "metadata": {},
     "output_type": "display_data"
    },
    {
     "data": {
      "application/vnd.jupyter.widget-view+json": {
       "model_id": "7ecde792ae4f4b1eb55056f942b8dc18",
       "version_major": 2,
       "version_minor": 0
      },
      "text/plain": [
       "Generating train split: 0 examples [00:00, ? examples/s]"
      ]
     },
     "metadata": {},
     "output_type": "display_data"
    },
    {
     "data": {
      "application/vnd.jupyter.widget-view+json": {
       "model_id": "aef5e04586bf471c992a1987f1834a7b",
       "version_major": 2,
       "version_minor": 0
      },
      "text/plain": [
       "Generating train split: 0 examples [00:00, ? examples/s]"
      ]
     },
     "metadata": {},
     "output_type": "display_data"
    },
    {
     "data": {
      "text/plain": [
       "(Dataset({\n",
       "     features: ['id', 'text', 'uuid', 'score'],\n",
       "     num_rows: 660\n",
       " }),\n",
       " Dataset({\n",
       "     features: ['id', 'text', 'uuid', 'score'],\n",
       "     num_rows: 142\n",
       " }),\n",
       " Dataset({\n",
       "     features: ['id', 'text', 'uuid', 'score'],\n",
       "     num_rows: 142\n",
       " }))"
      ]
     },
     "execution_count": 7,
     "metadata": {},
     "output_type": "execute_result"
    }
   ],
   "source": [
    "raw_train_ds = Dataset.from_json(\n",
    "    \"/llm_app/notebooks/tutorials/regression-sentiments.train.jsonlines\"\n",
    ")\n",
    "raw_val_ds = Dataset.from_json(\n",
    "    \"/llm_app/notebooks/tutorials/regression-sentiments.validation.jsonlines\"\n",
    ")\n",
    "raw_test_ds = Dataset.from_json(\n",
    "    \"/llm_app/notebooks/tutorials/regression-sentiments.test.jsonlines\"\n",
    ")\n",
    "\n",
    "# Alex: reduce datasets by half the original size (in order to avoid memory and time constraints).\n",
    "factor = 1\n",
    "idx_train = np.random.choice(\n",
    "    a=np.arange(raw_train_ds.num_rows),\n",
    "    size=int(raw_train_ds.num_rows * factor),\n",
    "    replace=False,\n",
    ")\n",
    "idx_train.sort()\n",
    "raw_train_ds = raw_train_ds.select(idx_train)\n",
    "\n",
    "idx_val = np.random.choice(\n",
    "    a=np.arange(raw_val_ds.num_rows),\n",
    "    size=int(raw_val_ds.num_rows * factor),\n",
    "    replace=False,\n",
    ")\n",
    "idx_val.sort()\n",
    "raw_val_ds = raw_val_ds.select(idx_val)\n",
    "\n",
    "idx_test = np.random.choice(\n",
    "    a=np.arange(raw_test_ds.num_rows),\n",
    "    size=int(raw_test_ds.num_rows * factor),\n",
    "    replace=False,\n",
    ")\n",
    "idx_test.sort()\n",
    "raw_test_ds = raw_test_ds.select(idx_test)\n",
    "\n",
    "# This line prints the description of train_ds.\n",
    "raw_train_ds, raw_val_ds, raw_test_ds"
   ]
  },
  {
   "cell_type": "code",
   "execution_count": 8,
   "metadata": {},
   "outputs": [
    {
     "data": {
      "text/plain": [
       "{'id': 457,\n",
       " 'text': 'Trop désagréable au téléphone 😡! ! !',\n",
       " 'uuid': '91c4efaaada14a1b9b050268185b6ae5',\n",
       " 'score': 1}"
      ]
     },
     "execution_count": 8,
     "metadata": {},
     "output_type": "execute_result"
    }
   ],
   "source": [
    "raw_train_ds[0]"
   ]
  },
  {
   "cell_type": "code",
   "execution_count": 9,
   "metadata": {},
   "outputs": [
    {
     "data": {
      "image/png": "[encoded data removed]",
      "text/plain": [
       "<Figure size 640x480 with 3 Axes>"
      ]
     },
     "metadata": {},
     "output_type": "display_data"
    }
   ],
   "source": [
    "fig, axs = plt.subplots(1, 3, tight_layout=True)\n",
    "distributions = []\n",
    "\n",
    "axs[0].set_title(\"Train\")\n",
    "axs[1].set_title(\"Validation\")\n",
    "axs[2].set_title(\"Test\")\n",
    "train_distributions = axs[0].hist(raw_train_ds[\"score\"], bins=5)\n",
    "val_distributions = axs[1].hist(raw_val_ds[\"score\"], bins=5)\n",
    "test_distributions = axs[2].hist(raw_test_ds[\"score\"], bins=5)\n",
    "\n",
    "for distributions, ax in zip(\n",
    "    [train_distributions, val_distributions, test_distributions], axs\n",
    "):\n",
    "    for j in range(5):\n",
    "        # Display the counts on each column of the histograms\n",
    "        ax.text(\n",
    "            distributions[1][j],\n",
    "            distributions[0][j],\n",
    "            str(int(distributions[0][j])),\n",
    "            weight=\"bold\",\n",
    "        )"
   ]
  },
  {
   "cell_type": "markdown",
   "metadata": {},
   "source": [
    "## Fine-tuning with a Text Classification Model"
   ]
  },
  {
   "cell_type": "code",
   "execution_count": 10,
   "metadata": {},
   "outputs": [
    {
     "name": "stderr",
     "output_type": "stream",
     "text": [
      "/usr/local/lib/python3.8/dist-packages/huggingface_hub/file_download.py:795: FutureWarning: `resume_download` is deprecated and will be removed in version 1.0.0. Downloads always resume when possible. If you want to force a new download, use `force_download=True`.\n",
      "  warnings.warn(\n"
     ]
    },
    {
     "name": "stderr",
     "output_type": "stream",
     "text": [
      "Some weights of the model checkpoint at camembert-base were not used when initializing CamembertForSequenceClassification: ['lm_head.layer_norm.bias', 'lm_head.dense.bias', 'lm_head.layer_norm.weight', 'lm_head.decoder.weight', 'roberta.pooler.dense.bias', 'lm_head.bias', 'lm_head.dense.weight', 'roberta.pooler.dense.weight']\n",
      "- This IS expected if you are initializing CamembertForSequenceClassification from the checkpoint of a model trained on another task or with another architecture (e.g. initializing a BertForSequenceClassification model from a BertForPreTraining model).\n",
      "- This IS NOT expected if you are initializing CamembertForSequenceClassification from the checkpoint of a model that you expect to be exactly identical (initializing a BertForSequenceClassification model from a BertForSequenceClassification model).\n",
      "Some weights of CamembertForSequenceClassification were not initialized from the model checkpoint at camembert-base and are newly initialized: ['classifier.dense.bias', 'classifier.out_proj.bias', 'classifier.out_proj.weight', 'classifier.dense.weight']\n",
      "You should probably TRAIN this model on a down-stream task to be able to use it for predictions and inference.\n"
     ]
    },
    {
     "name": "stdout",
     "output_type": "stream",
     "text": [
      "CPU times: user 961 ms, sys: 426 ms, total: 1.39 s\n",
      "Wall time: 1.45 s\n"
     ]
    }
   ],
   "source": [
    "%%time\n",
    "\n",
    "BASE_MODEL = \"camembert-base\"\n",
    "LEARNING_RATE = 2e-5\n",
    "MAX_LENGTH = 256\n",
    "BATCH_SIZE = 16\n",
    "EPOCHS = 20\n",
    "\n",
    "# Let's name the classes 0, 1, 2, 3, 4 like their indices.\n",
    "id2label = {k: k for k in range(5)}\n",
    "label2id = {k: k for k in range(5)}\n",
    "\n",
    "tokenizer = AutoTokenizer.from_pretrained(BASE_MODEL)\n",
    "model = AutoModelForSequenceClassification.from_pretrained(\n",
    "    BASE_MODEL, id2label=id2label, label2id=label2id\n",
    ")"
   ]
  },
  {
   "cell_type": "markdown",
   "metadata": {},
   "source": [
    "### Prepare Datasets"
   ]
  },
  {
   "cell_type": "code",
   "execution_count": 11,
   "metadata": {},
   "outputs": [
    {
     "data": {
      "application/vnd.jupyter.widget-view+json": {
       "model_id": "bbf45f8f0e45487092516764759ec69e",
       "version_major": 2,
       "version_minor": 0
      },
      "text/plain": [
       "Map:   0%|          | 0/660 [00:00<?, ? examples/s]"
      ]
     },
     "metadata": {},
     "output_type": "display_data"
    },
    {
     "data": {
      "application/vnd.jupyter.widget-view+json": {
       "model_id": "ffa98f6f20d84fd5a4837f36b5a1ed28",
       "version_major": 2,
       "version_minor": 0
      },
      "text/plain": [
       "Map:   0%|          | 0/142 [00:00<?, ? examples/s]"
      ]
     },
     "metadata": {},
     "output_type": "display_data"
    },
    {
     "data": {
      "application/vnd.jupyter.widget-view+json": {
       "model_id": "23aafa8132ea4a26a24bf13f179ac21b",
       "version_major": 2,
       "version_minor": 0
      },
      "text/plain": [
       "Map:   0%|          | 0/142 [00:00<?, ? examples/s]"
      ]
     },
     "metadata": {},
     "output_type": "display_data"
    },
    {
     "name": "stdout",
     "output_type": "stream",
     "text": [
      "CPU times: user 537 ms, sys: 14.5 ms, total: 551 ms\n",
      "Wall time: 565 ms\n"
     ]
    }
   ],
   "source": [
    "%%time\n",
    "\n",
    "ds = {\"train\": raw_train_ds, \"validation\": raw_val_ds, \"test\": raw_test_ds}\n",
    "\n",
    "\n",
    "def preprocess_function(examples):\n",
    "\n",
    "    label = examples[\"score\"]\n",
    "    examples = tokenizer(\n",
    "        examples[\"text\"], truncation=True, padding=\"max_length\", max_length=256\n",
    "    )\n",
    "    examples[\"label\"] = label\n",
    "\n",
    "    return examples\n",
    "\n",
    "\n",
    "for split in ds:\n",
    "    ds[split] = ds[split].map(\n",
    "        preprocess_function, remove_columns=[\"id\", \"uuid\", \"text\", \"score\"]\n",
    "    )"
   ]
  },
  {
   "cell_type": "markdown",
   "metadata": {},
   "source": [
    "### Metrics"
   ]
  },
  {
   "cell_type": "code",
   "execution_count": 12,
   "metadata": {},
   "outputs": [],
   "source": [
    "metric = load(\"accuracy\")\n",
    "\n",
    "\n",
    "def compute_metrics(eval_pred):\n",
    "\n",
    "    logits, labels = eval_pred\n",
    "    predictions = np.argmax(logits, axis=-1)\n",
    "\n",
    "    return metric.compute(predictions=predictions, references=labels)"
   ]
  },
  {
   "cell_type": "code",
   "execution_count": 13,
   "metadata": {},
   "outputs": [],
   "source": [
    "training_args = TrainingArguments(\n",
    "    output_dir=\"/llm_app/models/camembert-fine-tuned-regression\",\n",
    "    learning_rate=LEARNING_RATE,\n",
    "    per_device_train_batch_size=BATCH_SIZE,\n",
    "    per_device_eval_batch_size=BATCH_SIZE,\n",
    "    num_train_epochs=EPOCHS,\n",
    "    evaluation_strategy=\"epoch\",\n",
    "    save_strategy=\"epoch\",\n",
    "    metric_for_best_model=\"accuracy\",\n",
    "    load_best_model_at_end=True,\n",
    "    weight_decay=0.01,\n",
    ")"
   ]
  },
  {
   "cell_type": "code",
   "execution_count": 14,
   "metadata": {},
   "outputs": [
    {
     "name": "stderr",
     "output_type": "stream",
     "text": [
      "/usr/local/lib/python3.8/dist-packages/transformers/optimization.py:391: FutureWarning: This implementation of AdamW is deprecated and will be removed in a future version. Use the PyTorch implementation torch.optim.AdamW instead, or set `no_deprecation_warning=True` to disable this warning\n",
      "  warnings.warn(\n"
     ]
    },
    {
     "data": {
      "text/html": [
       "\n",
       "    <div>\n",
       "      \n",
       "      <progress value='840' max='840' style='width:300px; height:20px; vertical-align: middle;'></progress>\n",
       "      [840/840 13:34, Epoch 20/20]\n",
       "    </div>\n",
       "    <table border=\"1\" class=\"dataframe\">\n",
       "  <thead>\n",
       " <tr style=\"text-align: left;\">\n",
       "      <th>Epoch</th>\n",
       "      <th>Training Loss</th>\n",
       "      <th>Validation Loss</th>\n",
       "      <th>Accuracy</th>\n",
       "    </tr>\n",
       "  </thead>\n",
       "  <tbody>\n",
       "    <tr>\n",
       "      <td>1</td>\n",
       "      <td>No log</td>\n",
       "      <td>1.383538</td>\n",
       "      <td>0.366197</td>\n",
       "    </tr>\n",
       "    <tr>\n",
       "      <td>2</td>\n",
       "      <td>No log</td>\n",
       "      <td>1.282077</td>\n",
       "      <td>0.478873</td>\n",
       "    </tr>\n",
       "    <tr>\n",
       "      <td>3</td>\n",
       "      <td>No log</td>\n",
       "      <td>1.056584</td>\n",
       "      <td>0.619718</td>\n",
       "    </tr>\n",
       "    <tr>\n",
       "      <td>4</td>\n",
       "      <td>No log</td>\n",
       "      <td>0.992429</td>\n",
       "      <td>0.633803</td>\n",
       "    </tr>\n",
       "    <tr>\n",
       "      <td>5</td>\n",
       "      <td>No log</td>\n",
       "      <td>0.916088</td>\n",
       "      <td>0.654930</td>\n",
       "    </tr>\n",
       "    <tr>\n",
       "      <td>6</td>\n",
       "      <td>No log</td>\n",
       "      <td>0.926226</td>\n",
       "      <td>0.661972</td>\n",
       "    </tr>\n",
       "    <tr>\n",
       "      <td>7</td>\n",
       "      <td>No log</td>\n",
       "      <td>0.948082</td>\n",
       "      <td>0.640845</td>\n",
       "    </tr>\n",
       "    <tr>\n",
       "      <td>8</td>\n",
       "      <td>No log</td>\n",
       "      <td>0.957028</td>\n",
       "      <td>0.669014</td>\n",
       "    </tr>\n",
       "    <tr>\n",
       "      <td>9</td>\n",
       "      <td>No log</td>\n",
       "      <td>0.979029</td>\n",
       "      <td>0.661972</td>\n",
       "    </tr>\n",
       "    <tr>\n",
       "      <td>10</td>\n",
       "      <td>No log</td>\n",
       "      <td>1.018352</td>\n",
       "      <td>0.683099</td>\n",
       "    </tr>\n",
       "    <tr>\n",
       "      <td>11</td>\n",
       "      <td>No log</td>\n",
       "      <td>1.093272</td>\n",
       "      <td>0.654930</td>\n",
       "    </tr>\n",
       "    <tr>\n",
       "      <td>12</td>\n",
       "      <td>0.689800</td>\n",
       "      <td>1.113333</td>\n",
       "      <td>0.676056</td>\n",
       "    </tr>\n",
       "    <tr>\n",
       "      <td>13</td>\n",
       "      <td>0.689800</td>\n",
       "      <td>1.162661</td>\n",
       "      <td>0.669014</td>\n",
       "    </tr>\n",
       "    <tr>\n",
       "      <td>14</td>\n",
       "      <td>0.689800</td>\n",
       "      <td>1.179286</td>\n",
       "      <td>0.669014</td>\n",
       "    </tr>\n",
       "    <tr>\n",
       "      <td>15</td>\n",
       "      <td>0.689800</td>\n",
       "      <td>1.219260</td>\n",
       "      <td>0.647887</td>\n",
       "    </tr>\n",
       "    <tr>\n",
       "      <td>16</td>\n",
       "      <td>0.689800</td>\n",
       "      <td>1.261858</td>\n",
       "      <td>0.683099</td>\n",
       "    </tr>\n",
       "    <tr>\n",
       "      <td>17</td>\n",
       "      <td>0.689800</td>\n",
       "      <td>1.239899</td>\n",
       "      <td>0.669014</td>\n",
       "    </tr>\n",
       "    <tr>\n",
       "      <td>18</td>\n",
       "      <td>0.689800</td>\n",
       "      <td>1.269413</td>\n",
       "      <td>0.676056</td>\n",
       "    </tr>\n",
       "    <tr>\n",
       "      <td>19</td>\n",
       "      <td>0.689800</td>\n",
       "      <td>1.275152</td>\n",
       "      <td>0.676056</td>\n",
       "    </tr>\n",
       "    <tr>\n",
       "      <td>20</td>\n",
       "      <td>0.689800</td>\n",
       "      <td>1.283109</td>\n",
       "      <td>0.669014</td>\n",
       "    </tr>\n",
       "  </tbody>\n",
       "</table><p>"
      ],
      "text/plain": [
       "<IPython.core.display.HTML object>"
      ]
     },
     "metadata": {},
     "output_type": "display_data"
    },
    {
     "name": "stdout",
     "output_type": "stream",
     "text": [
      "CPU times: user 9min 16s, sys: 1min 7s, total: 10min 24s\n",
      "Wall time: 13min 41s\n"
     ]
    },
    {
     "data": {
      "text/plain": [
       "TrainOutput(global_step=840, training_loss=0.46242446899414064, metrics={'train_runtime': 814.8489, 'train_samples_per_second': 16.199, 'train_steps_per_second': 1.031, 'total_flos': 1736579740262400.0, 'train_loss': 0.46242446899414064, 'epoch': 20.0})"
      ]
     },
     "execution_count": 14,
     "metadata": {},
     "output_type": "execute_result"
    }
   ],
   "source": [
    "%%time\n",
    "\n",
    "trainer = Trainer(\n",
    "    model=model,\n",
    "    args=training_args,\n",
    "    train_dataset=ds[\"train\"],\n",
    "    eval_dataset=ds[\"validation\"],\n",
    "    compute_metrics=compute_metrics,\n",
    ")\n",
    "\n",
    "trainer.train()"
   ]
  },
  {
   "cell_type": "markdown",
   "metadata": {},
   "source": [
    "### Evaluation"
   ]
  },
  {
   "cell_type": "code",
   "execution_count": 15,
   "metadata": {},
   "outputs": [
    {
     "data": {
      "text/plain": [
       "Dataset({\n",
       "    features: ['input_ids', 'attention_mask', 'label'],\n",
       "    num_rows: 142\n",
       "})"
      ]
     },
     "execution_count": 15,
     "metadata": {},
     "output_type": "execute_result"
    }
   ],
   "source": [
    "trainer.eval_dataset"
   ]
  },
  {
   "cell_type": "code",
   "execution_count": 16,
   "metadata": {},
   "outputs": [
    {
     "data": {
      "text/html": [
       "\n",
       "    <div>\n",
       "      \n",
       "      <progress value='18' max='9' style='width:300px; height:20px; vertical-align: middle;'></progress>\n",
       "      [9/9 00:03]\n",
       "    </div>\n",
       "    "
      ],
      "text/plain": [
       "<IPython.core.display.HTML object>"
      ]
     },
     "metadata": {},
     "output_type": "display_data"
    },
    {
     "name": "stdout",
     "output_type": "stream",
     "text": [
      "CPU times: user 1.93 s, sys: 9.01 ms, total: 1.94 s\n",
      "Wall time: 1.95 s\n"
     ]
    },
    {
     "data": {
      "text/plain": [
       "{'eval_loss': 1.0183520317077637,\n",
       " 'eval_accuracy': 0.6830985915492958,\n",
       " 'eval_runtime': 1.9482,\n",
       " 'eval_samples_per_second': 72.887,\n",
       " 'eval_steps_per_second': 4.62,\n",
       " 'epoch': 20.0}"
      ]
     },
     "execution_count": 16,
     "metadata": {},
     "output_type": "execute_result"
    }
   ],
   "source": [
    "%%time\n",
    "\n",
    "trainer.evaluate()"
   ]
  },
  {
   "cell_type": "code",
   "execution_count": 17,
   "metadata": {},
   "outputs": [
    {
     "name": "stdout",
     "output_type": "stream",
     "text": [
      "CPU times: user 1.85 s, sys: 0 ns, total: 1.85 s\n",
      "Wall time: 1.85 s\n"
     ]
    },
    {
     "data": {
      "text/plain": [
       "{'eval_loss': 0.8255395293235779,\n",
       " 'eval_accuracy': 0.7323943661971831,\n",
       " 'eval_runtime': 1.8499,\n",
       " 'eval_samples_per_second': 76.763,\n",
       " 'eval_steps_per_second': 4.865,\n",
       " 'epoch': 20.0}"
      ]
     },
     "execution_count": 17,
     "metadata": {},
     "output_type": "execute_result"
    }
   ],
   "source": [
    "%%time\n",
    "\n",
    "trainer.eval_dataset = ds[\"test\"]\n",
    "trainer.evaluate()"
   ]
  },
  {
   "cell_type": "markdown",
   "metadata": {},
   "source": [
    "### Prediction"
   ]
  },
  {
   "cell_type": "code",
   "execution_count": 18,
   "metadata": {},
   "outputs": [
    {
     "name": "stdout",
     "output_type": "stream",
     "text": [
      "CPU times: user 23.2 ms, sys: 0 ns, total: 23.2 ms\n",
      "Wall time: 24.6 ms\n"
     ]
    },
    {
     "data": {
      "text/plain": [
       "tensor([3, 3, 1, 1, 3], device='cuda:0')"
      ]
     },
     "execution_count": 18,
     "metadata": {},
     "output_type": "execute_result"
    }
   ],
   "source": [
    "%%time\n",
    "\n",
    "input_texts = [\n",
    "    \"C'est très bien\",\n",
    "    \"Je vais y aller.\",\n",
    "    \"J'en ai marre.\",\n",
    "    \"Vous ne foutez rien !!!\",\n",
    "    \"Je vous remercie infiniment pour cet excellent service !!!\",\n",
    "]\n",
    "\n",
    "# Encode the text.\n",
    "encoded = tokenizer(\n",
    "    input_texts,\n",
    "    truncation=True,\n",
    "    padding=\"max_length\",\n",
    "    max_length=28,  # 256\n",
    "    return_tensors=\"pt\",\n",
    ").to(\"cuda\")\n",
    "\n",
    "# Call the model to predict under the format of logits of 5 classes\n",
    "logits = model(**encoded).logits\n",
    "\n",
    "# Get the class\n",
    "torch.argmax(logits, axis=1)"
   ]
  },
  {
   "cell_type": "markdown",
   "metadata": {},
   "source": [
    "## Fine-tuning with a Regression Model"
   ]
  },
  {
   "cell_type": "markdown",
   "metadata": {},
   "source": [
    "### Setup"
   ]
  },
  {
   "cell_type": "code",
   "execution_count": 19,
   "metadata": {},
   "outputs": [],
   "source": [
    "# Clear the GPU cache to free up memory.\n",
    "torch.cuda.empty_cache()"
   ]
  },
  {
   "cell_type": "code",
   "execution_count": 20,
   "metadata": {},
   "outputs": [
    {
     "name": "stderr",
     "output_type": "stream",
     "text": [
      "/usr/local/lib/python3.8/dist-packages/huggingface_hub/file_download.py:795: FutureWarning: `resume_download` is deprecated and will be removed in version 1.0.0. Downloads always resume when possible. If you want to force a new download, use `force_download=True`.\n",
      "  warnings.warn(\n"
     ]
    },
    {
     "name": "stderr",
     "output_type": "stream",
     "text": [
      "Some weights of the model checkpoint at camembert-base were not used when initializing CamembertForSequenceClassification: ['lm_head.layer_norm.bias', 'lm_head.dense.bias', 'lm_head.layer_norm.weight', 'lm_head.decoder.weight', 'roberta.pooler.dense.bias', 'lm_head.bias', 'lm_head.dense.weight', 'roberta.pooler.dense.weight']\n",
      "- This IS expected if you are initializing CamembertForSequenceClassification from the checkpoint of a model trained on another task or with another architecture (e.g. initializing a BertForSequenceClassification model from a BertForPreTraining model).\n",
      "- This IS NOT expected if you are initializing CamembertForSequenceClassification from the checkpoint of a model that you expect to be exactly identical (initializing a BertForSequenceClassification model from a BertForSequenceClassification model).\n",
      "Some weights of CamembertForSequenceClassification were not initialized from the model checkpoint at camembert-base and are newly initialized: ['classifier.dense.bias', 'classifier.out_proj.bias', 'classifier.out_proj.weight', 'classifier.dense.weight']\n",
      "You should probably TRAIN this model on a down-stream task to be able to use it for predictions and inference.\n"
     ]
    },
    {
     "name": "stdout",
     "output_type": "stream",
     "text": [
      "CPU times: user 1.06 s, sys: 368 ms, total: 1.43 s\n",
      "Wall time: 4.63 s\n"
     ]
    }
   ],
   "source": [
    "%%time\n",
    "\n",
    "BASE_MODEL = \"camembert-base\"\n",
    "LEARNING_RATE = 2e-5\n",
    "MAX_LENGTH = 256\n",
    "BATCH_SIZE = 16\n",
    "EPOCHS = 20\n",
    "\n",
    "tokenizer = AutoTokenizer.from_pretrained(BASE_MODEL)\n",
    "model = AutoModelForSequenceClassification.from_pretrained(BASE_MODEL, num_labels=1)"
   ]
  },
  {
   "cell_type": "markdown",
   "metadata": {},
   "source": [
    "### Prepare Datasets"
   ]
  },
  {
   "cell_type": "code",
   "execution_count": 21,
   "metadata": {},
   "outputs": [
    {
     "data": {
      "application/vnd.jupyter.widget-view+json": {
       "model_id": "9a36671bd3e942f3a3fb7fdbcb80f34a",
       "version_major": 2,
       "version_minor": 0
      },
      "text/plain": [
       "Map:   0%|          | 0/660 [00:00<?, ? examples/s]"
      ]
     },
     "metadata": {},
     "output_type": "display_data"
    },
    {
     "data": {
      "application/vnd.jupyter.widget-view+json": {
       "model_id": "a503f2a0bcf34be4938c4cabd6437165",
       "version_major": 2,
       "version_minor": 0
      },
      "text/plain": [
       "Map:   0%|          | 0/142 [00:00<?, ? examples/s]"
      ]
     },
     "metadata": {},
     "output_type": "display_data"
    },
    {
     "data": {
      "application/vnd.jupyter.widget-view+json": {
       "model_id": "73774b61ff7b4313a5bf962f238fc129",
       "version_major": 2,
       "version_minor": 0
      },
      "text/plain": [
       "Map:   0%|          | 0/142 [00:00<?, ? examples/s]"
      ]
     },
     "metadata": {},
     "output_type": "display_data"
    },
    {
     "name": "stdout",
     "output_type": "stream",
     "text": [
      "CPU times: user 515 ms, sys: 47 ms, total: 562 ms\n",
      "Wall time: 564 ms\n"
     ]
    }
   ],
   "source": [
    "%%time\n",
    "\n",
    "ds = {\"train\": raw_train_ds, \"validation\": raw_val_ds, \"test\": raw_test_ds}\n",
    "\n",
    "\n",
    "def preprocess_function(examples):\n",
    "\n",
    "    label = examples[\"score\"]\n",
    "    examples = tokenizer(\n",
    "        examples[\"text\"], truncation=True, padding=\"max_length\", max_length=256\n",
    "    )\n",
    "\n",
    "    # Change this to real number.\n",
    "    examples[\"label\"] = float(label)\n",
    "\n",
    "    return examples\n",
    "\n",
    "\n",
    "for split in ds:\n",
    "    ds[split] = ds[split].map(\n",
    "        preprocess_function, remove_columns=[\"id\", \"uuid\", \"text\", \"score\"]\n",
    "    )"
   ]
  },
  {
   "cell_type": "markdown",
   "metadata": {},
   "source": [
    "### Metrics"
   ]
  },
  {
   "cell_type": "code",
   "execution_count": 22,
   "metadata": {},
   "outputs": [],
   "source": [
    "def compute_metrics_for_regression(eval_pred):\n",
    "\n",
    "    logits, labels = eval_pred\n",
    "    labels = labels.reshape(-1, 1)\n",
    "\n",
    "    mse = mean_squared_error(labels, logits)\n",
    "    mae = mean_absolute_error(labels, logits)\n",
    "    r2 = r2_score(labels, logits)\n",
    "    single_squared_errors = ((logits - labels).flatten() ** 2).tolist()\n",
    "\n",
    "    # Compute accuracy.\n",
    "    # Based on the fact that the rounded score = true score only if |single_squared_errors| < 0.5\n",
    "    accuracy = sum([1 for e in single_squared_errors if e < 0.25]) / len(\n",
    "        single_squared_errors\n",
    "    )\n",
    "\n",
    "    return {\"mse\": mse, \"mae\": mae, \"r2\": r2, \"accuracy\": accuracy}"
   ]
  },
  {
   "cell_type": "code",
   "execution_count": 23,
   "metadata": {},
   "outputs": [],
   "source": [
    "training_args = TrainingArguments(\n",
    "    output_dir=\"/llm_app/models/camembert-fine-tuned-regression\",\n",
    "    learning_rate=LEARNING_RATE,\n",
    "    per_device_train_batch_size=BATCH_SIZE,\n",
    "    per_device_eval_batch_size=BATCH_SIZE,\n",
    "    num_train_epochs=EPOCHS,\n",
    "    evaluation_strategy=\"epoch\",\n",
    "    save_strategy=\"epoch\",\n",
    "    save_total_limit=2,\n",
    "    metric_for_best_model=\"accuracy\",\n",
    "    load_best_model_at_end=True,\n",
    "    weight_decay=0.01,\n",
    ")"
   ]
  },
  {
   "cell_type": "markdown",
   "metadata": {},
   "source": [
    "### Loss Function"
   ]
  },
  {
   "cell_type": "code",
   "execution_count": 24,
   "metadata": {},
   "outputs": [],
   "source": [
    "class RegressionTrainer(Trainer):\n",
    "\n",
    "    def compute_loss(self, model, inputs, return_outputs=False):\n",
    "\n",
    "        labels = inputs.pop(\"labels\")\n",
    "        outputs = model(**inputs)\n",
    "        logits = outputs[0][:, 0]\n",
    "        loss = torch.nn.functional.mse_loss(logits, labels)\n",
    "\n",
    "        return (loss, outputs) if return_outputs else loss"
   ]
  },
  {
   "cell_type": "markdown",
   "metadata": {},
   "source": [
    "### Training"
   ]
  },
  {
   "cell_type": "code",
   "execution_count": 25,
   "metadata": {},
   "outputs": [
    {
     "name": "stderr",
     "output_type": "stream",
     "text": [
      "/usr/local/lib/python3.8/dist-packages/transformers/optimization.py:391: FutureWarning: This implementation of AdamW is deprecated and will be removed in a future version. Use the PyTorch implementation torch.optim.AdamW instead, or set `no_deprecation_warning=True` to disable this warning\n",
      "  warnings.warn(\n"
     ]
    },
    {
     "data": {
      "text/html": [
       "\n",
       "    <div>\n",
       "      \n",
       "      <progress value='840' max='840' style='width:300px; height:20px; vertical-align: middle;'></progress>\n",
       "      [840/840 13:25, Epoch 20/20]\n",
       "    </div>\n",
       "    <table border=\"1\" class=\"dataframe\">\n",
       "  <thead>\n",
       " <tr style=\"text-align: left;\">\n",
       "      <th>Epoch</th>\n",
       "      <th>Training Loss</th>\n",
       "      <th>Validation Loss</th>\n",
       "      <th>Mse</th>\n",
       "      <th>Mae</th>\n",
       "      <th>R2</th>\n",
       "      <th>Accuracy</th>\n",
       "    </tr>\n",
       "  </thead>\n",
       "  <tbody>\n",
       "    <tr>\n",
       "      <td>1</td>\n",
       "      <td>No log</td>\n",
       "      <td>1.165882</td>\n",
       "      <td>1.165882</td>\n",
       "      <td>0.876155</td>\n",
       "      <td>0.052826</td>\n",
       "      <td>0.366197</td>\n",
       "    </tr>\n",
       "    <tr>\n",
       "      <td>2</td>\n",
       "      <td>No log</td>\n",
       "      <td>0.770925</td>\n",
       "      <td>0.770924</td>\n",
       "      <td>0.654933</td>\n",
       "      <td>0.373694</td>\n",
       "      <td>0.535211</td>\n",
       "    </tr>\n",
       "    <tr>\n",
       "      <td>3</td>\n",
       "      <td>No log</td>\n",
       "      <td>0.585798</td>\n",
       "      <td>0.585798</td>\n",
       "      <td>0.591896</td>\n",
       "      <td>0.524092</td>\n",
       "      <td>0.464789</td>\n",
       "    </tr>\n",
       "    <tr>\n",
       "      <td>4</td>\n",
       "      <td>No log</td>\n",
       "      <td>0.533173</td>\n",
       "      <td>0.533173</td>\n",
       "      <td>0.557537</td>\n",
       "      <td>0.566845</td>\n",
       "      <td>0.605634</td>\n",
       "    </tr>\n",
       "    <tr>\n",
       "      <td>5</td>\n",
       "      <td>No log</td>\n",
       "      <td>0.486687</td>\n",
       "      <td>0.486687</td>\n",
       "      <td>0.514158</td>\n",
       "      <td>0.604611</td>\n",
       "      <td>0.598592</td>\n",
       "    </tr>\n",
       "    <tr>\n",
       "      <td>6</td>\n",
       "      <td>No log</td>\n",
       "      <td>0.435139</td>\n",
       "      <td>0.435139</td>\n",
       "      <td>0.483410</td>\n",
       "      <td>0.646489</td>\n",
       "      <td>0.619718</td>\n",
       "    </tr>\n",
       "    <tr>\n",
       "      <td>7</td>\n",
       "      <td>No log</td>\n",
       "      <td>0.486891</td>\n",
       "      <td>0.486891</td>\n",
       "      <td>0.515239</td>\n",
       "      <td>0.604445</td>\n",
       "      <td>0.626761</td>\n",
       "    </tr>\n",
       "    <tr>\n",
       "      <td>8</td>\n",
       "      <td>No log</td>\n",
       "      <td>0.466866</td>\n",
       "      <td>0.466866</td>\n",
       "      <td>0.493818</td>\n",
       "      <td>0.620714</td>\n",
       "      <td>0.640845</td>\n",
       "    </tr>\n",
       "    <tr>\n",
       "      <td>9</td>\n",
       "      <td>No log</td>\n",
       "      <td>0.472513</td>\n",
       "      <td>0.472513</td>\n",
       "      <td>0.500084</td>\n",
       "      <td>0.616126</td>\n",
       "      <td>0.591549</td>\n",
       "    </tr>\n",
       "    <tr>\n",
       "      <td>10</td>\n",
       "      <td>No log</td>\n",
       "      <td>0.531174</td>\n",
       "      <td>0.531175</td>\n",
       "      <td>0.536704</td>\n",
       "      <td>0.568469</td>\n",
       "      <td>0.647887</td>\n",
       "    </tr>\n",
       "    <tr>\n",
       "      <td>11</td>\n",
       "      <td>No log</td>\n",
       "      <td>0.451897</td>\n",
       "      <td>0.451897</td>\n",
       "      <td>0.487811</td>\n",
       "      <td>0.632875</td>\n",
       "      <td>0.640845</td>\n",
       "    </tr>\n",
       "    <tr>\n",
       "      <td>12</td>\n",
       "      <td>0.360100</td>\n",
       "      <td>0.468161</td>\n",
       "      <td>0.468161</td>\n",
       "      <td>0.497267</td>\n",
       "      <td>0.619662</td>\n",
       "      <td>0.626761</td>\n",
       "    </tr>\n",
       "    <tr>\n",
       "      <td>13</td>\n",
       "      <td>0.360100</td>\n",
       "      <td>0.467706</td>\n",
       "      <td>0.467706</td>\n",
       "      <td>0.490903</td>\n",
       "      <td>0.620031</td>\n",
       "      <td>0.647887</td>\n",
       "    </tr>\n",
       "    <tr>\n",
       "      <td>14</td>\n",
       "      <td>0.360100</td>\n",
       "      <td>0.498217</td>\n",
       "      <td>0.498217</td>\n",
       "      <td>0.501499</td>\n",
       "      <td>0.595244</td>\n",
       "      <td>0.633803</td>\n",
       "    </tr>\n",
       "    <tr>\n",
       "      <td>15</td>\n",
       "      <td>0.360100</td>\n",
       "      <td>0.462071</td>\n",
       "      <td>0.462071</td>\n",
       "      <td>0.482262</td>\n",
       "      <td>0.624610</td>\n",
       "      <td>0.654930</td>\n",
       "    </tr>\n",
       "    <tr>\n",
       "      <td>16</td>\n",
       "      <td>0.360100</td>\n",
       "      <td>0.477287</td>\n",
       "      <td>0.477287</td>\n",
       "      <td>0.488558</td>\n",
       "      <td>0.612247</td>\n",
       "      <td>0.640845</td>\n",
       "    </tr>\n",
       "    <tr>\n",
       "      <td>17</td>\n",
       "      <td>0.360100</td>\n",
       "      <td>0.458091</td>\n",
       "      <td>0.458091</td>\n",
       "      <td>0.476042</td>\n",
       "      <td>0.627842</td>\n",
       "      <td>0.640845</td>\n",
       "    </tr>\n",
       "    <tr>\n",
       "      <td>18</td>\n",
       "      <td>0.360100</td>\n",
       "      <td>0.461432</td>\n",
       "      <td>0.461432</td>\n",
       "      <td>0.474781</td>\n",
       "      <td>0.625129</td>\n",
       "      <td>0.654930</td>\n",
       "    </tr>\n",
       "    <tr>\n",
       "      <td>19</td>\n",
       "      <td>0.360100</td>\n",
       "      <td>0.458347</td>\n",
       "      <td>0.458347</td>\n",
       "      <td>0.471973</td>\n",
       "      <td>0.627635</td>\n",
       "      <td>0.654930</td>\n",
       "    </tr>\n",
       "    <tr>\n",
       "      <td>20</td>\n",
       "      <td>0.360100</td>\n",
       "      <td>0.461747</td>\n",
       "      <td>0.461747</td>\n",
       "      <td>0.474012</td>\n",
       "      <td>0.624873</td>\n",
       "      <td>0.654930</td>\n",
       "    </tr>\n",
       "  </tbody>\n",
       "</table><p>"
      ],
      "text/plain": [
       "<IPython.core.display.HTML object>"
      ]
     },
     "metadata": {},
     "output_type": "display_data"
    },
    {
     "name": "stdout",
     "output_type": "stream",
     "text": [
      "CPU times: user 9min 17s, sys: 1min 3s, total: 10min 21s\n",
      "Wall time: 13min 26s\n"
     ]
    },
    {
     "data": {
      "text/plain": [
       "TrainOutput(global_step=840, training_loss=0.2309649978365217, metrics={'train_runtime': 806.5566, 'train_samples_per_second': 16.366, 'train_steps_per_second': 1.041, 'total_flos': 1736517373747200.0, 'train_loss': 0.2309649978365217, 'epoch': 20.0})"
      ]
     },
     "execution_count": 25,
     "metadata": {},
     "output_type": "execute_result"
    }
   ],
   "source": [
    "%%time\n",
    "\n",
    "trainer = RegressionTrainer(\n",
    "    model=model,\n",
    "    args=training_args,\n",
    "    train_dataset=ds[\"train\"],\n",
    "    eval_dataset=ds[\"validation\"],\n",
    "    compute_metrics=compute_metrics_for_regression,\n",
    ")\n",
    "\n",
    "trainer.train()"
   ]
  },
  {
   "cell_type": "markdown",
   "metadata": {},
   "source": [
    "### Evaluation on Test Set"
   ]
  },
  {
   "cell_type": "code",
   "execution_count": 26,
   "metadata": {},
   "outputs": [
    {
     "data": {
      "text/html": [
       "\n",
       "    <div>\n",
       "      \n",
       "      <progress value='9' max='9' style='width:300px; height:20px; vertical-align: middle;'></progress>\n",
       "      [9/9 00:01]\n",
       "    </div>\n",
       "    "
      ],
      "text/plain": [
       "<IPython.core.display.HTML object>"
      ]
     },
     "metadata": {},
     "output_type": "display_data"
    },
    {
     "data": {
      "text/plain": [
       "{'eval_loss': 0.2767906188964844,\n",
       " 'eval_mse': 0.2767906188964844,\n",
       " 'eval_mae': 0.39563262462615967,\n",
       " 'eval_r2': 0.7292779466879267,\n",
       " 'eval_accuracy': 0.7112676056338029,\n",
       " 'eval_runtime': 1.9302,\n",
       " 'eval_samples_per_second': 73.568,\n",
       " 'eval_steps_per_second': 4.663,\n",
       " 'epoch': 20.0}"
      ]
     },
     "execution_count": 26,
     "metadata": {},
     "output_type": "execute_result"
    }
   ],
   "source": [
    "trainer.eval_dataset = ds[\"test\"]\n",
    "trainer.evaluate()"
   ]
  },
  {
   "cell_type": "markdown",
   "metadata": {},
   "source": [
    "### Analysis on Mistakes"
   ]
  },
  {
   "cell_type": "code",
   "execution_count": 27,
   "metadata": {},
   "outputs": [
    {
     "data": {
      "text/html": [
       "<div>\n",
       "<style scoped>\n",
       "    .dataframe tbody tr th:only-of-type {\n",
       "        vertical-align: middle;\n",
       "    }\n",
       "\n",
       "    .dataframe tbody tr th {\n",
       "        vertical-align: top;\n",
       "    }\n",
       "\n",
       "    .dataframe thead th {\n",
       "        text-align: right;\n",
       "    }\n",
       "</style>\n",
       "<table border=\"1\" class=\"dataframe\">\n",
       "  <thead>\n",
       "    <tr style=\"text-align: right;\">\n",
       "      <th></th>\n",
       "      <th>Text</th>\n",
       "      <th>Score</th>\n",
       "      <th>Prediction</th>\n",
       "      <th>Rounded Prediction</th>\n",
       "    </tr>\n",
       "  </thead>\n",
       "  <tbody>\n",
       "    <tr>\n",
       "      <th>1</th>\n",
       "      <td>Encore en panne depuis hier soir ! Impossible ...</td>\n",
       "      <td>0</td>\n",
       "      <td>0.863155</td>\n",
       "      <td>1</td>\n",
       "    </tr>\n",
       "    <tr>\n",
       "      <th>5</th>\n",
       "      <td>Ce centre ne vaut même pas une étoile.. Un num...</td>\n",
       "      <td>0</td>\n",
       "      <td>0.72577</td>\n",
       "      <td>1</td>\n",
       "    </tr>\n",
       "    <tr>\n",
       "      <th>6</th>\n",
       "      <td>Je suis venu à la poste cet après-midi pour ré...</td>\n",
       "      <td>0</td>\n",
       "      <td>1.310887</td>\n",
       "      <td>1</td>\n",
       "    </tr>\n",
       "    <tr>\n",
       "      <th>8</th>\n",
       "      <td>USERNAME Bonjour Enedis, j'ai demandé une sous...</td>\n",
       "      <td>1</td>\n",
       "      <td>1.607481</td>\n",
       "      <td>2</td>\n",
       "    </tr>\n",
       "    <tr>\n",
       "      <th>9</th>\n",
       "      <td>USERNAME Je rappelle pour la quatrième fois en...</td>\n",
       "      <td>1</td>\n",
       "      <td>1.658358</td>\n",
       "      <td>2</td>\n",
       "    </tr>\n",
       "    <tr>\n",
       "      <th>11</th>\n",
       "      <td>Service indigne d'un pays civilisé. Toujours f...</td>\n",
       "      <td>1</td>\n",
       "      <td>0.267461</td>\n",
       "      <td>0</td>\n",
       "    </tr>\n",
       "    <tr>\n",
       "      <th>13</th>\n",
       "      <td>Voilà, c'était ma minute passion pour USERNAME...</td>\n",
       "      <td>2</td>\n",
       "      <td>2.733439</td>\n",
       "      <td>3</td>\n",
       "    </tr>\n",
       "    <tr>\n",
       "      <th>14</th>\n",
       "      <td>je suis sois disant pris en compte et je ne pe...</td>\n",
       "      <td>0</td>\n",
       "      <td>1.316026</td>\n",
       "      <td>1</td>\n",
       "    </tr>\n",
       "    <tr>\n",
       "      <th>20</th>\n",
       "      <td>Longues lignes. Personnel raciste. Je regarde ...</td>\n",
       "      <td>0</td>\n",
       "      <td>0.763906</td>\n",
       "      <td>1</td>\n",
       "    </tr>\n",
       "    <tr>\n",
       "      <th>21</th>\n",
       "      <td>Pole emploi: le plus simple est d'écrire une r...</td>\n",
       "      <td>2</td>\n",
       "      <td>1.185457</td>\n",
       "      <td>1</td>\n",
       "    </tr>\n",
       "    <tr>\n",
       "      <th>26</th>\n",
       "      <td>Injoignable toujours fermé ne répondent pas ni...</td>\n",
       "      <td>0</td>\n",
       "      <td>0.609285</td>\n",
       "      <td>1</td>\n",
       "    </tr>\n",
       "    <tr>\n",
       "      <th>29</th>\n",
       "      <td>Accueil absolument désastreux. Bravo le servic...</td>\n",
       "      <td>0</td>\n",
       "      <td>0.533837</td>\n",
       "      <td>1</td>\n",
       "    </tr>\n",
       "    <tr>\n",
       "      <th>30</th>\n",
       "      <td>Ça va ils ne se font pas chier USERNAME , tu m...</td>\n",
       "      <td>0</td>\n",
       "      <td>1.478129</td>\n",
       "      <td>1</td>\n",
       "    </tr>\n",
       "    <tr>\n",
       "      <th>31</th>\n",
       "      <td>La nouvelle interface de laposte. net est une ...</td>\n",
       "      <td>1</td>\n",
       "      <td>0.207217</td>\n",
       "      <td>0</td>\n",
       "    </tr>\n",
       "    <tr>\n",
       "      <th>35</th>\n",
       "      <td>Lamentable !. Efficacité inexistante dans un b...</td>\n",
       "      <td>0</td>\n",
       "      <td>0.522667</td>\n",
       "      <td>1</td>\n",
       "    </tr>\n",
       "    <tr>\n",
       "      <th>40</th>\n",
       "      <td>1733 spams en moins de 3 heures de temps ! fuy...</td>\n",
       "      <td>1</td>\n",
       "      <td>0.439795</td>\n",
       "      <td>0</td>\n",
       "    </tr>\n",
       "    <tr>\n",
       "      <th>45</th>\n",
       "      <td>simplement absent ça fait des jours que j essa...</td>\n",
       "      <td>0</td>\n",
       "      <td>0.610899</td>\n",
       "      <td>1</td>\n",
       "    </tr>\n",
       "    <tr>\n",
       "      <th>46</th>\n",
       "      <td>Quelle lenteur ! Depuis le changement de l'int...</td>\n",
       "      <td>1</td>\n",
       "      <td>0.339172</td>\n",
       "      <td>0</td>\n",
       "    </tr>\n",
       "    <tr>\n",
       "      <th>50</th>\n",
       "      <td>USERNAME USERNAME Bonjour, à quelle heure est ...</td>\n",
       "      <td>1</td>\n",
       "      <td>1.968384</td>\n",
       "      <td>2</td>\n",
       "    </tr>\n",
       "    <tr>\n",
       "      <th>53</th>\n",
       "      <td>Lamentable... ils m'ont radié directement aprè...</td>\n",
       "      <td>1</td>\n",
       "      <td>-0.004228</td>\n",
       "      <td>0</td>\n",
       "    </tr>\n",
       "    <tr>\n",
       "      <th>57</th>\n",
       "      <td>USERNAME hello, alors c'est très sympas de pou...</td>\n",
       "      <td>1</td>\n",
       "      <td>2.190851</td>\n",
       "      <td>2</td>\n",
       "    </tr>\n",
       "    <tr>\n",
       "      <th>63</th>\n",
       "      <td>USERNAME Contact a été pris mais pour certains...</td>\n",
       "      <td>2</td>\n",
       "      <td>1.463098</td>\n",
       "      <td>1</td>\n",
       "    </tr>\n",
       "    <tr>\n",
       "      <th>67</th>\n",
       "      <td>USERNAME USERNAME Pour info le colis est arriv...</td>\n",
       "      <td>2</td>\n",
       "      <td>2.511076</td>\n",
       "      <td>3</td>\n",
       "    </tr>\n",
       "    <tr>\n",
       "      <th>70</th>\n",
       "      <td>incompétence crasse</td>\n",
       "      <td>0</td>\n",
       "      <td>0.88983</td>\n",
       "      <td>1</td>\n",
       "    </tr>\n",
       "    <tr>\n",
       "      <th>79</th>\n",
       "      <td>Je me suis rendu à la Caf ce matin parce que j...</td>\n",
       "      <td>1</td>\n",
       "      <td>0.317074</td>\n",
       "      <td>0</td>\n",
       "    </tr>\n",
       "    <tr>\n",
       "      <th>81</th>\n",
       "      <td>Ils ne servent à rien du tout c est grave pour...</td>\n",
       "      <td>1</td>\n",
       "      <td>0.247378</td>\n",
       "      <td>0</td>\n",
       "    </tr>\n",
       "    <tr>\n",
       "      <th>92</th>\n",
       "      <td>AVEC CETTE NOUVELLE PRESENTATION JE NE RETROUV...</td>\n",
       "      <td>1</td>\n",
       "      <td>0.26583</td>\n",
       "      <td>0</td>\n",
       "    </tr>\n",
       "    <tr>\n",
       "      <th>96</th>\n",
       "      <td>Super nul, 1 an qu'ils me font tourner en rond</td>\n",
       "      <td>1</td>\n",
       "      <td>0.453216</td>\n",
       "      <td>0</td>\n",
       "    </tr>\n",
       "    <tr>\n",
       "      <th>98</th>\n",
       "      <td>depuis 5 jours souci boite mail, je ne reçois ...</td>\n",
       "      <td>2</td>\n",
       "      <td>0.790193</td>\n",
       "      <td>1</td>\n",
       "    </tr>\n",
       "    <tr>\n",
       "      <th>100</th>\n",
       "      <td>a l''ccueil il ya une certaine MISS SOURIRE , ...</td>\n",
       "      <td>1</td>\n",
       "      <td>1.531712</td>\n",
       "      <td>2</td>\n",
       "    </tr>\n",
       "    <tr>\n",
       "      <th>102</th>\n",
       "      <td>Une équipe complètement incompétent. Aucun res...</td>\n",
       "      <td>1</td>\n",
       "      <td>0.427175</td>\n",
       "      <td>0</td>\n",
       "    </tr>\n",
       "    <tr>\n",
       "      <th>103</th>\n",
       "      <td>🏆félicitations USERNAME pour cette nomination ...</td>\n",
       "      <td>2</td>\n",
       "      <td>3.670225</td>\n",
       "      <td>4</td>\n",
       "    </tr>\n",
       "    <tr>\n",
       "      <th>105</th>\n",
       "      <td>Je reçois beaucoup de spams, courriers indésir...</td>\n",
       "      <td>2</td>\n",
       "      <td>1.107627</td>\n",
       "      <td>1</td>\n",
       "    </tr>\n",
       "    <tr>\n",
       "      <th>111</th>\n",
       "      <td>L’équipe de ce bureau de Poste n’a pas compris...</td>\n",
       "      <td>0</td>\n",
       "      <td>0.749663</td>\n",
       "      <td>1</td>\n",
       "    </tr>\n",
       "    <tr>\n",
       "      <th>113</th>\n",
       "      <td>Les conseillers utilisent les bornes en libre ...</td>\n",
       "      <td>1</td>\n",
       "      <td>1.933567</td>\n",
       "      <td>2</td>\n",
       "    </tr>\n",
       "    <tr>\n",
       "      <th>128</th>\n",
       "      <td>Manque de professionnalisme retard sur paiemen...</td>\n",
       "      <td>0</td>\n",
       "      <td>0.92992</td>\n",
       "      <td>1</td>\n",
       "    </tr>\n",
       "    <tr>\n",
       "      <th>131</th>\n",
       "      <td>USERNAME USERNAME bonjour. De gros travaux jus...</td>\n",
       "      <td>1</td>\n",
       "      <td>1.553146</td>\n",
       "      <td>2</td>\n",
       "    </tr>\n",
       "    <tr>\n",
       "      <th>132</th>\n",
       "      <td>Quand on vit une situation difficile et que l'...</td>\n",
       "      <td>1</td>\n",
       "      <td>-0.080048</td>\n",
       "      <td>0</td>\n",
       "    </tr>\n",
       "    <tr>\n",
       "      <th>133</th>\n",
       "      <td>Bonjour USERNAME, y a t'il encore un service c...</td>\n",
       "      <td>0</td>\n",
       "      <td>1.033146</td>\n",
       "      <td>1</td>\n",
       "    </tr>\n",
       "    <tr>\n",
       "      <th>134</th>\n",
       "      <td>On peut me dire pourquoi je continue de recevo...</td>\n",
       "      <td>1</td>\n",
       "      <td>1.742707</td>\n",
       "      <td>2</td>\n",
       "    </tr>\n",
       "    <tr>\n",
       "      <th>135</th>\n",
       "      <td>USERNAME Oui, je peux éviter le robot ?</td>\n",
       "      <td>1</td>\n",
       "      <td>2.579511</td>\n",
       "      <td>3</td>\n",
       "    </tr>\n",
       "  </tbody>\n",
       "</table>\n",
       "</div>"
      ],
      "text/plain": [
       "                                                  Text Score Prediction  \\\n",
       "1    Encore en panne depuis hier soir ! Impossible ...     0   0.863155   \n",
       "5    Ce centre ne vaut même pas une étoile.. Un num...     0    0.72577   \n",
       "6    Je suis venu à la poste cet après-midi pour ré...     0   1.310887   \n",
       "8    USERNAME Bonjour Enedis, j'ai demandé une sous...     1   1.607481   \n",
       "9    USERNAME Je rappelle pour la quatrième fois en...     1   1.658358   \n",
       "11   Service indigne d'un pays civilisé. Toujours f...     1   0.267461   \n",
       "13   Voilà, c'était ma minute passion pour USERNAME...     2   2.733439   \n",
       "14   je suis sois disant pris en compte et je ne pe...     0   1.316026   \n",
       "20   Longues lignes. Personnel raciste. Je regarde ...     0   0.763906   \n",
       "21   Pole emploi: le plus simple est d'écrire une r...     2   1.185457   \n",
       "26   Injoignable toujours fermé ne répondent pas ni...     0   0.609285   \n",
       "29   Accueil absolument désastreux. Bravo le servic...     0   0.533837   \n",
       "30   Ça va ils ne se font pas chier USERNAME , tu m...     0   1.478129   \n",
       "31   La nouvelle interface de laposte. net est une ...     1   0.207217   \n",
       "35   Lamentable !. Efficacité inexistante dans un b...     0   0.522667   \n",
       "40   1733 spams en moins de 3 heures de temps ! fuy...     1   0.439795   \n",
       "45   simplement absent ça fait des jours que j essa...     0   0.610899   \n",
       "46   Quelle lenteur ! Depuis le changement de l'int...     1   0.339172   \n",
       "50   USERNAME USERNAME Bonjour, à quelle heure est ...     1   1.968384   \n",
       "53   Lamentable... ils m'ont radié directement aprè...     1  -0.004228   \n",
       "57   USERNAME hello, alors c'est très sympas de pou...     1   2.190851   \n",
       "63   USERNAME Contact a été pris mais pour certains...     2   1.463098   \n",
       "67   USERNAME USERNAME Pour info le colis est arriv...     2   2.511076   \n",
       "70                                 incompétence crasse     0    0.88983   \n",
       "79   Je me suis rendu à la Caf ce matin parce que j...     1   0.317074   \n",
       "81   Ils ne servent à rien du tout c est grave pour...     1   0.247378   \n",
       "92   AVEC CETTE NOUVELLE PRESENTATION JE NE RETROUV...     1    0.26583   \n",
       "96      Super nul, 1 an qu'ils me font tourner en rond     1   0.453216   \n",
       "98   depuis 5 jours souci boite mail, je ne reçois ...     2   0.790193   \n",
       "100  a l''ccueil il ya une certaine MISS SOURIRE , ...     1   1.531712   \n",
       "102  Une équipe complètement incompétent. Aucun res...     1   0.427175   \n",
       "103  🏆félicitations USERNAME pour cette nomination ...     2   3.670225   \n",
       "105  Je reçois beaucoup de spams, courriers indésir...     2   1.107627   \n",
       "111  L’équipe de ce bureau de Poste n’a pas compris...     0   0.749663   \n",
       "113  Les conseillers utilisent les bornes en libre ...     1   1.933567   \n",
       "128  Manque de professionnalisme retard sur paiemen...     0    0.92992   \n",
       "131  USERNAME USERNAME bonjour. De gros travaux jus...     1   1.553146   \n",
       "132  Quand on vit une situation difficile et que l'...     1  -0.080048   \n",
       "133  Bonjour USERNAME, y a t'il encore un service c...     0   1.033146   \n",
       "134  On peut me dire pourquoi je continue de recevo...     1   1.742707   \n",
       "135            USERNAME Oui, je peux éviter le robot ?     1   2.579511   \n",
       "\n",
       "     Rounded Prediction  \n",
       "1                     1  \n",
       "5                     1  \n",
       "6                     1  \n",
       "8                     2  \n",
       "9                     2  \n",
       "11                    0  \n",
       "13                    3  \n",
       "14                    1  \n",
       "20                    1  \n",
       "21                    1  \n",
       "26                    1  \n",
       "29                    1  \n",
       "30                    1  \n",
       "31                    0  \n",
       "35                    1  \n",
       "40                    0  \n",
       "45                    1  \n",
       "46                    0  \n",
       "50                    2  \n",
       "53                    0  \n",
       "57                    2  \n",
       "63                    1  \n",
       "67                    3  \n",
       "70                    1  \n",
       "79                    0  \n",
       "81                    0  \n",
       "92                    0  \n",
       "96                    0  \n",
       "98                    1  \n",
       "100                   2  \n",
       "102                   0  \n",
       "103                   4  \n",
       "105                   1  \n",
       "111                   1  \n",
       "113                   2  \n",
       "128                   1  \n",
       "131                   2  \n",
       "132                   0  \n",
       "133                   1  \n",
       "134                   2  \n",
       "135                   3  "
      ]
     },
     "execution_count": 27,
     "metadata": {},
     "output_type": "execute_result"
    }
   ],
   "source": [
    "nb_batches = math.ceil(len(raw_test_ds) / BATCH_SIZE)\n",
    "y_preds = []\n",
    "\n",
    "for i in range(nb_batches):\n",
    "    input_texts = raw_test_ds[i * BATCH_SIZE : (i + 1) * BATCH_SIZE][\"text\"]\n",
    "    input_labels = raw_test_ds[i * BATCH_SIZE : (i + 1) * BATCH_SIZE][\"score\"]\n",
    "    encoded = tokenizer(\n",
    "        input_texts,\n",
    "        truncation=True,\n",
    "        padding=\"max_length\",\n",
    "        max_length=256,\n",
    "        return_tensors=\"pt\",\n",
    "    ).to(\"cuda\")\n",
    "    y_preds += model(**encoded).logits.reshape(-1).tolist()\n",
    "\n",
    "pd.set_option(\"display.max_rows\", 500)\n",
    "df = pd.DataFrame(\n",
    "    [raw_test_ds[\"text\"], raw_test_ds[\"score\"], y_preds],\n",
    "    [\"Text\", \"Score\", \"Prediction\"],\n",
    ").T\n",
    "df[\"Rounded Prediction\"] = df[\"Prediction\"].apply(round)\n",
    "\n",
    "incorrect_cases = df[df[\"Score\"] != df[\"Rounded Prediction\"]]\n",
    "incorrect_cases"
   ]
  },
  {
   "cell_type": "code",
   "execution_count": 28,
   "metadata": {},
   "outputs": [
    {
     "data": {
      "text/plain": [
       "array([[20, 14,  0,  0,  0],\n",
       "       [11, 57,  8,  1,  0],\n",
       "       [ 0,  4,  8,  2,  1],\n",
       "       [ 0,  0,  0,  9,  0],\n",
       "       [ 0,  0,  0,  0,  7]])"
      ]
     },
     "execution_count": 28,
     "metadata": {},
     "output_type": "execute_result"
    }
   ],
   "source": [
    "confusion_matrix(df[\"Score\"].tolist(), df[\"Rounded Prediction\"].tolist())"
   ]
  },
  {
   "cell_type": "code",
   "execution_count": 29,
   "metadata": {},
   "outputs": [],
   "source": [
    "# Clear the GPU cache to free up memory.\n",
    "torch.cuda.empty_cache()"
   ]
  }
 ],
 "metadata": {
  "kernelspec": {
   "display_name": "Python 3 (ipykernel)",
   "language": "python",
   "name": "python3"
  },
  "language_info": {
   "codemirror_mode": {
    "name": "ipython",
    "version": 3
   },
   "file_extension": ".py",
   "mimetype": "text/x-python",
   "name": "python",
   "nbconvert_exporter": "python",
   "pygments_lexer": "ipython3",
   "version": "3.8.10"
  },
  "orig_nbformat": 4
 },
 "nbformat": 4,
 "nbformat_minor": 2
}
