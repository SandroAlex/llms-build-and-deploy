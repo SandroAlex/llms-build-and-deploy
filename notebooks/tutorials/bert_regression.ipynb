{
 "cells": [
  {
   "cell_type": "markdown",
   "metadata": {},
   "source": [
    "# Regression with Text Input Using BERT and Transformers"
   ]
  },
  {
   "cell_type": "markdown",
   "metadata": {},
   "source": [
    "- Based on this [medium blog post](https://lajavaness.medium.com/regression-with-text-input-using-bert-and-transformers-71c155034b13);"
   ]
  },
  {
   "cell_type": "markdown",
   "metadata": {},
   "source": [
    "## Setup"
   ]
  },
  {
   "cell_type": "code",
   "execution_count": 45,
   "metadata": {},
   "outputs": [
    {
     "name": "stdout",
     "output_type": "stream",
     "text": [
      "CPU times: user 106 μs, sys: 4 μs, total: 110 μs\n",
      "Wall time: 117 μs\n"
     ]
    }
   ],
   "source": [
    "%%time\n",
    "\n",
    "# Load packages.\n",
    "import torch\n",
    "\n",
    "import numpy as np\n",
    "import pandas as pd\n",
    "\n",
    "from matplotlib import pyplot as plt\n",
    "\n",
    "from datasets import Dataset\n",
    "from transformers import (\n",
    "    AutoTokenizer, \n",
    "    AutoModelForSequenceClassification, \n",
    "    DataCollatorWithPadding,\n",
    "    TrainingArguments,\n",
    "    Trainer\n",
    ")\n",
    "from evaluate.loading import load\n",
    "from torch.utils.data import DataLoader"
   ]
  },
  {
   "cell_type": "markdown",
   "metadata": {},
   "source": [
    "## Dataset"
   ]
  },
  {
   "cell_type": "markdown",
   "metadata": {},
   "source": [
    "### Download"
   ]
  },
  {
   "cell_type": "code",
   "execution_count": 2,
   "metadata": {},
   "outputs": [
    {
     "name": "stdout",
     "output_type": "stream",
     "text": [
      "/llm_app\n"
     ]
    }
   ],
   "source": [
    "!pwd"
   ]
  },
  {
   "cell_type": "code",
   "execution_count": 3,
   "metadata": {},
   "outputs": [
    {
     "name": "stdout",
     "output_type": "stream",
     "text": [
      "--2024-12-27 03:42:08--  https://gist.githubusercontent.com/ljnmedium/177b80072f04d1ed6f1ca127c053881a/raw/a8c9985abea89abb9f7d75a788206c1324d7fe1c/nhutljn-regression-sentiments.train.jsonlines\n",
      "Resolving gist.githubusercontent.com (gist.githubusercontent.com)... 185.199.110.133, 185.199.111.133, 185.199.109.133, ...\n",
      "Connecting to gist.githubusercontent.com (gist.githubusercontent.com)|185.199.110.133|:443... connected.\n",
      "HTTP request sent, awaiting response... 200 OK\n",
      "Length: 245947 (240K) [text/plain]\n",
      "Saving to: ‘/llm_app/notebooks/tutorials/regression-sentiments.train.jsonlines’\n",
      "\n",
      "/llm_app/notebooks/ 100%[===================>] 240.18K  --.-KB/s    in 0.04s   \n",
      "\n",
      "2024-12-27 03:42:08 (6.28 MB/s) - ‘/llm_app/notebooks/tutorials/regression-sentiments.train.jsonlines’ saved [245947/245947]\n",
      "\n"
     ]
    }
   ],
   "source": [
    "!wget \\\n",
    "    https://gist.githubusercontent.com/ljnmedium/177b80072f04d1ed6f1ca127c053881a/raw/a8c9985abea89abb9f7d75a788206c1324d7fe1c/nhutljn-regression-sentiments.train.jsonlines \\\n",
    "    -O /llm_app/notebooks/tutorials/regression-sentiments.train.jsonlines\n"
   ]
  },
  {
   "cell_type": "code",
   "execution_count": 4,
   "metadata": {},
   "outputs": [
    {
     "name": "stdout",
     "output_type": "stream",
     "text": [
      "--2024-12-27 03:42:10--  https://gist.githubusercontent.com/ljnmedium/94b5ea0a383976e5b40a2d2a85dadf40/raw/a37f5e81db3aac36d4d0eb8d98f0a22758fc283b/nhutljn-regression-sentiments.validation.jsonlines\n",
      "Resolving gist.githubusercontent.com (gist.githubusercontent.com)... 185.199.110.133, 185.199.111.133, 185.199.109.133, ...\n",
      "Connecting to gist.githubusercontent.com (gist.githubusercontent.com)|185.199.110.133|:443... connected.\n",
      "HTTP request sent, awaiting response... 200 OK\n",
      "Length: 53162 (52K) [text/plain]\n",
      "Saving to: ‘/llm_app/notebooks/tutorials/regression-sentiments.validation.jsonlines’\n",
      "\n",
      "/llm_app/notebooks/ 100%[===================>]  51.92K  --.-KB/s    in 0.02s   \n",
      "\n",
      "2024-12-27 03:42:10 (2.98 MB/s) - ‘/llm_app/notebooks/tutorials/regression-sentiments.validation.jsonlines’ saved [53162/53162]\n",
      "\n"
     ]
    }
   ],
   "source": [
    "!wget \\\n",
    "    https://gist.githubusercontent.com/ljnmedium/94b5ea0a383976e5b40a2d2a85dadf40/raw/a37f5e81db3aac36d4d0eb8d98f0a22758fc283b/nhutljn-regression-sentiments.validation.jsonlines \\\n",
    "    -O /llm_app/notebooks/tutorials/regression-sentiments.validation.jsonlines"
   ]
  },
  {
   "cell_type": "code",
   "execution_count": 5,
   "metadata": {},
   "outputs": [
    {
     "name": "stdout",
     "output_type": "stream",
     "text": [
      "--2024-12-27 03:42:11--  https://gist.githubusercontent.com/ljnmedium/d3c5984c62f4df157e85a5d4d6035272/raw/8ec34e678c9255e146c24ec3eae7e16b6e3d1df0/nhutljn-regression-bert-sentiments.test.jsonlines\n",
      "Resolving gist.githubusercontent.com (gist.githubusercontent.com)... 185.199.110.133, 185.199.111.133, 185.199.109.133, ...\n",
      "Connecting to gist.githubusercontent.com (gist.githubusercontent.com)|185.199.110.133|:443... connected.\n",
      "HTTP request sent, awaiting response... 200 OK\n",
      "Length: 54424 (53K) [text/plain]\n",
      "Saving to: ‘/llm_app/notebooks/tutorials/regression-sentiments.test.jsonlines’\n",
      "\n",
      "/llm_app/notebooks/ 100%[===================>]  53.15K  --.-KB/s    in 0.03s   \n",
      "\n",
      "2024-12-27 03:42:11 (1.49 MB/s) - ‘/llm_app/notebooks/tutorials/regression-sentiments.test.jsonlines’ saved [54424/54424]\n",
      "\n"
     ]
    }
   ],
   "source": [
    "!wget \\\n",
    "    https://gist.githubusercontent.com/ljnmedium/d3c5984c62f4df157e85a5d4d6035272/raw/8ec34e678c9255e146c24ec3eae7e16b6e3d1df0/nhutljn-regression-bert-sentiments.test.jsonlines \\\n",
    "    -O /llm_app/notebooks/tutorials/regression-sentiments.test.jsonlines"
   ]
  },
  {
   "cell_type": "markdown",
   "metadata": {},
   "source": [
    "### Understanding"
   ]
  },
  {
   "cell_type": "code",
   "execution_count": 31,
   "metadata": {},
   "outputs": [
    {
     "data": {
      "text/plain": [
       "(Dataset({\n",
       "     features: ['id', 'text', 'uuid', 'score'],\n",
       "     num_rows: 330\n",
       " }),\n",
       " Dataset({\n",
       "     features: ['id', 'text', 'uuid', 'score'],\n",
       "     num_rows: 71\n",
       " }),\n",
       " Dataset({\n",
       "     features: ['id', 'text', 'uuid', 'score'],\n",
       "     num_rows: 71\n",
       " }))"
      ]
     },
     "execution_count": 31,
     "metadata": {},
     "output_type": "execute_result"
    }
   ],
   "source": [
    "raw_train_ds = Dataset.from_json(\"/llm_app/notebooks/tutorials/regression-sentiments.train.jsonlines\")\n",
    "raw_val_ds = Dataset.from_json(\"/llm_app/notebooks/tutorials/regression-sentiments.validation.jsonlines\")\n",
    "raw_test_ds = Dataset.from_json(\"/llm_app/notebooks/tutorials/regression-sentiments.test.jsonlines\")\n",
    "\n",
    "# Alex: reduce datasets by half the original size (in order to avoid memory and time constraints).\n",
    "idx_train = np.random.choice(\n",
    "    a=np.arange(raw_train_ds.num_rows), \n",
    "    size=int(raw_train_ds.num_rows/2),\n",
    "    replace=False\n",
    ")\n",
    "idx_train.sort()\n",
    "raw_train_ds = raw_train_ds.select(idx_train)\n",
    "\n",
    "idx_val = np.random.choice(\n",
    "    a=np.arange(raw_val_ds.num_rows), \n",
    "    size=int(raw_val_ds.num_rows/2),\n",
    "    replace=False\n",
    ")\n",
    "idx_val.sort()\n",
    "raw_val_ds = raw_val_ds.select(idx_val)\n",
    "\n",
    "idx_test = np.random.choice(\n",
    "    a=np.arange(raw_test_ds.num_rows), \n",
    "    size=int(raw_test_ds.num_rows/2),\n",
    "    replace=False\n",
    ")\n",
    "idx_test.sort()\n",
    "raw_test_ds = raw_test_ds.select(idx_test)\n",
    "\n",
    "# This line prints the description of train_ds.\n",
    "raw_train_ds, raw_val_ds, raw_test_ds"
   ]
  },
  {
   "cell_type": "code",
   "execution_count": 32,
   "metadata": {},
   "outputs": [
    {
     "data": {
      "text/plain": [
       "{'id': 457,\n",
       " 'text': 'Trop désagréable au téléphone 😡! ! !',\n",
       " 'uuid': '91c4efaaada14a1b9b050268185b6ae5',\n",
       " 'score': 1}"
      ]
     },
     "execution_count": 32,
     "metadata": {},
     "output_type": "execute_result"
    }
   ],
   "source": [
    "raw_train_ds[0]"
   ]
  },
  {
   "cell_type": "code",
   "execution_count": 33,
   "metadata": {},
   "outputs": [
    {
     "data": {
      "image/png": "[encoded data removed]",
      "text/plain": [
       "<Figure size 640x480 with 3 Axes>"
      ]
     },
     "metadata": {},
     "output_type": "display_data"
    }
   ],
   "source": [
    "fig, axs = plt.subplots(1, 3, tight_layout=True)\n",
    "distributions = []\n",
    "\n",
    "axs[0].set_title(\"Train\"); axs[1].set_title(\"Validation\"); axs[2].set_title(\"Test\"); \n",
    "train_distributions = axs[0].hist(raw_train_ds[\"score\"], bins=5)\n",
    "val_distributions = axs[1].hist(raw_val_ds[\"score\"], bins=5)\n",
    "test_distributions = axs[2].hist(raw_test_ds[\"score\"], bins=5)\n",
    "\n",
    "for distributions, ax in zip([train_distributions, val_distributions, test_distributions], axs):\n",
    "    for j in range(5):\n",
    "        # Display the counts on each column of the histograms\n",
    "        ax.text(distributions[1][j], distributions[0][j], str(int(distributions[0][j])), weight=\"bold\")\n"
   ]
  },
  {
   "cell_type": "markdown",
   "metadata": {},
   "source": [
    "## Fine-tuning with a Text Classification Model"
   ]
  },
  {
   "cell_type": "code",
   "execution_count": 34,
   "metadata": {},
   "outputs": [
    {
     "name": "stderr",
     "output_type": "stream",
     "text": [
      "Some weights of CamembertForSequenceClassification were not initialized from the model checkpoint at camembert-base and are newly initialized: ['classifier.dense.bias', 'classifier.dense.weight', 'classifier.out_proj.bias', 'classifier.out_proj.weight']\n",
      "You should probably TRAIN this model on a down-stream task to be able to use it for predictions and inference.\n"
     ]
    },
    {
     "name": "stdout",
     "output_type": "stream",
     "text": [
      "CPU times: user 387 ms, sys: 24.2 ms, total: 411 ms\n",
      "Wall time: 776 ms\n"
     ]
    }
   ],
   "source": [
    "%%time\n",
    "\n",
    "BASE_MODEL = \"camembert-base\"\n",
    "LEARNING_RATE = 2e-5\n",
    "MAX_LENGTH = 28 # 256\n",
    "BATCH_SIZE = 4  # 16\n",
    "EPOCHS = 1      # 20\n",
    "\n",
    "# Let's name the classes 0, 1, 2, 3, 4 like their indices.\n",
    "id2label = {k:k for k in range(5)}\n",
    "label2id = {k:k for k in range(5)}\n",
    "\n",
    "tokenizer = AutoTokenizer.from_pretrained(BASE_MODEL)\n",
    "model = AutoModelForSequenceClassification.from_pretrained(BASE_MODEL, id2label=id2label, label2id=label2id)"
   ]
  },
  {
   "cell_type": "markdown",
   "metadata": {},
   "source": [
    "### Prepare Datasets"
   ]
  },
  {
   "cell_type": "code",
   "execution_count": 35,
   "metadata": {},
   "outputs": [
    {
     "data": {
      "application/vnd.jupyter.widget-view+json": {
       "model_id": "2e1da2f64f694ad394c25a925d189d27",
       "version_major": 2,
       "version_minor": 0
      },
      "text/plain": [
       "Map:   0%|          | 0/330 [00:00<?, ? examples/s]"
      ]
     },
     "metadata": {},
     "output_type": "display_data"
    },
    {
     "data": {
      "application/vnd.jupyter.widget-view+json": {
       "model_id": "857f7c7b5cad4df68a3e70c09b64587e",
       "version_major": 2,
       "version_minor": 0
      },
      "text/plain": [
       "Map:   0%|          | 0/71 [00:00<?, ? examples/s]"
      ]
     },
     "metadata": {},
     "output_type": "display_data"
    },
    {
     "data": {
      "application/vnd.jupyter.widget-view+json": {
       "model_id": "677c64938e3a42e0a1415ef693f58a25",
       "version_major": 2,
       "version_minor": 0
      },
      "text/plain": [
       "Map:   0%|          | 0/71 [00:00<?, ? examples/s]"
      ]
     },
     "metadata": {},
     "output_type": "display_data"
    },
    {
     "name": "stdout",
     "output_type": "stream",
     "text": [
      "CPU times: user 838 ms, sys: 36.7 ms, total: 875 ms\n",
      "Wall time: 902 ms\n"
     ]
    }
   ],
   "source": [
    "%%time\n",
    "\n",
    "ds = {\"train\": raw_train_ds, \"validation\": raw_val_ds, \"test\": raw_test_ds}\n",
    "\n",
    "\n",
    "def preprocess_function(examples):\n",
    "    \n",
    "    label = examples[\"score\"] \n",
    "    examples = tokenizer(examples[\"text\"], truncation=True, padding=\"max_length\", max_length=256)\n",
    "    examples[\"label\"] = label\n",
    "\n",
    "    return examples\n",
    "\n",
    "\n",
    "for split in ds:\n",
    "    ds[split] = ds[split].map(preprocess_function, remove_columns=[\"id\", \"uuid\", \"text\", \"score\"])"
   ]
  },
  {
   "cell_type": "markdown",
   "metadata": {},
   "source": [
    "### Metrics"
   ]
  },
  {
   "cell_type": "code",
   "execution_count": 36,
   "metadata": {},
   "outputs": [],
   "source": [
    "metric = load(\"accuracy\")\n",
    "\n",
    "def compute_metrics(eval_pred):\n",
    "    \n",
    "    logits, labels = eval_pred\n",
    "    predictions = np.argmax(logits, axis=-1)\n",
    "    \n",
    "    return metric.compute(predictions=predictions, references=labels)"
   ]
  },
  {
   "cell_type": "code",
   "execution_count": 37,
   "metadata": {},
   "outputs": [
    {
     "name": "stderr",
     "output_type": "stream",
     "text": [
      "/usr/local/lib/python3.12/site-packages/transformers/training_args.py:1575: FutureWarning: `evaluation_strategy` is deprecated and will be removed in version 4.46 of 🤗 Transformers. Use `eval_strategy` instead\n",
      "  warnings.warn(\n"
     ]
    }
   ],
   "source": [
    "training_args = TrainingArguments(\n",
    "    output_dir=\"/llm_app/models/camembert-fine-tuned-regression\",\n",
    "    learning_rate=LEARNING_RATE,\n",
    "    per_device_train_batch_size=BATCH_SIZE,\n",
    "    per_device_eval_batch_size=BATCH_SIZE,\n",
    "    num_train_epochs=EPOCHS,\n",
    "    evaluation_strategy=\"epoch\",\n",
    "    save_strategy=\"epoch\",\n",
    "    metric_for_best_model=\"accuracy\",\n",
    "    load_best_model_at_end=True,\n",
    "    weight_decay=0.01,\n",
    ")"
   ]
  },
  {
   "cell_type": "code",
   "execution_count": 38,
   "metadata": {},
   "outputs": [
    {
     "name": "stderr",
     "output_type": "stream",
     "text": [
      "Detected kernel version 5.4.0, which is below the recommended minimum of 5.5.0; this can cause the process to hang. It is recommended to upgrade the kernel to the minimum version or higher.\n"
     ]
    },
    {
     "data": {
      "text/html": [
       "\n",
       "    <div>\n",
       "      \n",
       "      <progress value='83' max='83' style='width:300px; height:20px; vertical-align: middle;'></progress>\n",
       "      [83/83 11:38, Epoch 1/1]\n",
       "    </div>\n",
       "    <table border=\"1\" class=\"dataframe\">\n",
       "  <thead>\n",
       " <tr style=\"text-align: left;\">\n",
       "      <th>Epoch</th>\n",
       "      <th>Training Loss</th>\n",
       "      <th>Validation Loss</th>\n",
       "      <th>Accuracy</th>\n",
       "    </tr>\n",
       "  </thead>\n",
       "  <tbody>\n",
       "    <tr>\n",
       "      <td>1</td>\n",
       "      <td>No log</td>\n",
       "      <td>1.439683</td>\n",
       "      <td>0.380282</td>\n",
       "    </tr>\n",
       "  </tbody>\n",
       "</table><p>"
      ],
      "text/plain": [
       "<IPython.core.display.HTML object>"
      ]
     },
     "metadata": {},
     "output_type": "display_data"
    },
    {
     "name": "stdout",
     "output_type": "stream",
     "text": [
      "CPU times: user 22min 7s, sys: 51.8 s, total: 22min 59s\n",
      "Wall time: 11min 50s\n"
     ]
    },
    {
     "data": {
      "text/plain": [
       "TrainOutput(global_step=83, training_loss=1.4856177640248494, metrics={'train_runtime': 710.2054, 'train_samples_per_second': 0.465, 'train_steps_per_second': 0.117, 'total_flos': 43414493506560.0, 'train_loss': 1.4856177640248494, 'epoch': 1.0})"
      ]
     },
     "execution_count": 38,
     "metadata": {},
     "output_type": "execute_result"
    }
   ],
   "source": [
    "%%time\n",
    "\n",
    "trainer = Trainer(\n",
    "    model=model,\n",
    "    args=training_args,\n",
    "    train_dataset=ds[\"train\"],\n",
    "    eval_dataset=ds[\"validation\"],\n",
    "    compute_metrics=compute_metrics\n",
    ")\n",
    "\n",
    "trainer.train()"
   ]
  },
  {
   "cell_type": "markdown",
   "metadata": {},
   "source": [
    "### Evaluation"
   ]
  },
  {
   "cell_type": "code",
   "execution_count": 41,
   "metadata": {},
   "outputs": [
    {
     "name": "stdout",
     "output_type": "stream",
     "text": [
      "CPU times: user 1min 11s, sys: 151 ms, total: 1min 11s\n",
      "Wall time: 36.4 s\n"
     ]
    },
    {
     "data": {
      "text/plain": [
       "{'eval_loss': 1.4396826028823853,\n",
       " 'eval_accuracy': 0.38028169014084506,\n",
       " 'eval_runtime': 36.4186,\n",
       " 'eval_samples_per_second': 1.95,\n",
       " 'eval_steps_per_second': 0.494,\n",
       " 'epoch': 1.0}"
      ]
     },
     "execution_count": 41,
     "metadata": {},
     "output_type": "execute_result"
    }
   ],
   "source": [
    "%%time\n",
    "\n",
    "trainer.evaluate()"
   ]
  },
  {
   "cell_type": "code",
   "execution_count": 42,
   "metadata": {},
   "outputs": [
    {
     "name": "stdout",
     "output_type": "stream",
     "text": [
      "CPU times: user 1min 4s, sys: 141 ms, total: 1min 4s\n",
      "Wall time: 32.5 s\n"
     ]
    },
    {
     "data": {
      "text/plain": [
       "{'eval_loss': 1.3512624502182007,\n",
       " 'eval_accuracy': 0.5211267605633803,\n",
       " 'eval_runtime': 32.538,\n",
       " 'eval_samples_per_second': 2.182,\n",
       " 'eval_steps_per_second': 0.553,\n",
       " 'epoch': 1.0}"
      ]
     },
     "execution_count": 42,
     "metadata": {},
     "output_type": "execute_result"
    }
   ],
   "source": [
    "%%time\n",
    "\n",
    "trainer.eval_dataset=ds[\"test\"]\n",
    "trainer.evaluate()"
   ]
  },
  {
   "cell_type": "markdown",
   "metadata": {},
   "source": [
    "### Prediction"
   ]
  },
  {
   "cell_type": "code",
   "execution_count": 48,
   "metadata": {},
   "outputs": [
    {
     "data": {
      "text/plain": [
       "tensor([1, 1, 1, 1, 1])"
      ]
     },
     "execution_count": 48,
     "metadata": {},
     "output_type": "execute_result"
    }
   ],
   "source": [
    "input_texts = [\n",
    "    \"C'est très bien\", \n",
    "    \"Je vais y aller.\", \n",
    "    \"J'en ai marre.\", \n",
    "    \"Vous ne foutez rien !!!\", \n",
    "    \"Je vous remercie infiniment pour cet excellent service !!!\"\n",
    "]\n",
    "\n",
    "# Encode the text.\n",
    "encoded = tokenizer(\n",
    "    input_texts, \n",
    "    truncation=True, \n",
    "    padding=\"max_length\", \n",
    "    max_length=28, # 256\n",
    "    return_tensors=\"pt\"\n",
    ")#.to(\"cuda\")\n",
    "\n",
    "# Call the model to predict under the format of logits of 5 classes\n",
    "logits = model(**encoded).logits\n",
    "\n",
    "# Get the class\n",
    "torch.argmax(logits, axis=1)"
   ]
  },
  {
   "cell_type": "markdown",
   "metadata": {},
   "source": [
    "## Fine-tuning with a Regression Model"
   ]
  }
 ],
 "metadata": {
  "kernelspec": {
   "display_name": "Python 3 (ipykernel)",
   "language": "python",
   "name": "python3"
  },
  "language_info": {
   "codemirror_mode": {
    "name": "ipython",
    "version": 3
   },
   "file_extension": ".py",
   "mimetype": "text/x-python",
   "name": "python",
   "nbconvert_exporter": "python",
   "pygments_lexer": "ipython3",
   "version": "3.12.0"
  },
  "orig_nbformat": 4
 },
 "nbformat": 4,
 "nbformat_minor": 2
}
