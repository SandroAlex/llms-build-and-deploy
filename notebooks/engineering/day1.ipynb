{
 "cells": [
  {
   "cell_type": "markdown",
   "metadata": {},
   "source": [
    "# Day One"
   ]
  },
  {
   "cell_type": "markdown",
   "metadata": {},
   "source": [
    "## Initial Setup"
   ]
  },
  {
   "cell_type": "code",
   "execution_count": 1,
   "metadata": {},
   "outputs": [
    {
     "name": "stdout",
     "output_type": "stream",
     "text": [
      "CPU times: user 781 ms, sys: 92.4 ms, total: 874 ms\n",
      "Wall time: 953 ms\n"
     ]
    }
   ],
   "source": [
    "%%time\n",
    "\n",
    "# Imports.\n",
    "import os\n",
    "import requests\n",
    "\n",
    "from dotenv import load_dotenv\n",
    "from bs4 import BeautifulSoup\n",
    "\n",
    "from IPython.display import Markdown, display\n",
    "from openai import OpenAI"
   ]
  },
  {
   "cell_type": "markdown",
   "metadata": {},
   "source": [
    "## Connecting to OpenAI"
   ]
  },
  {
   "cell_type": "code",
   "execution_count": 3,
   "metadata": {},
   "outputs": [
    {
     "name": "stdout",
     "output_type": "stream",
     "text": [
      "API key found and looks good so far!\n"
     ]
    }
   ],
   "source": [
    "# Load openai key.\n",
    "api_key = os.environ.get(\"OPENAI_API_KEY\")\n",
    "\n",
    "# Check the API key.\n",
    "if not api_key:\n",
    "    print(\"No API key was found - please head over to the troubleshooting notebook in this folder to identify & fix!\")\n",
    "\n",
    "elif not api_key.startswith(\"sk-proj-\"):\n",
    "    print(\"An API key was found, but it doesn't start sk-proj-; please check you're using the right key - see troubleshooting notebook\")\n",
    "\n",
    "elif api_key.strip() != api_key:\n",
    "    print(\"An API key was found, but it looks like it might have space or tab characters at the start or end - please remove them - see troubleshooting notebook\")\n",
    "\n",
    "else:\n",
    "    print(\"API key found and looks good so far!\")"
   ]
  },
  {
   "cell_type": "code",
   "execution_count": 4,
   "metadata": {},
   "outputs": [
    {
     "name": "stdout",
     "output_type": "stream",
     "text": [
      "CPU times: user 85.1 ms, sys: 15.8 ms, total: 101 ms\n",
      "Wall time: 101 ms\n"
     ]
    }
   ],
   "source": [
    "%%time\n",
    "\n",
    "openai = OpenAI()"
   ]
  },
  {
   "cell_type": "markdown",
   "metadata": {},
   "source": [
    "## Quick Call to a Frontier Model"
   ]
  },
  {
   "cell_type": "code",
   "execution_count": 5,
   "metadata": {},
   "outputs": [
    {
     "name": "stdout",
     "output_type": "stream",
     "text": [
      "Hello! Welcome! I'm glad to hear from you. How can I assist you today?\n",
      "CPU times: user 22.7 ms, sys: 7.89 ms, total: 30.6 ms\n",
      "Wall time: 1.02 s\n"
     ]
    }
   ],
   "source": [
    "%%time\n",
    "\n",
    "# To give you a preview: \n",
    "# Calling OpenAI with these messages is this easy. \n",
    "# Any problems, head over to the Troubleshooting notebook.\n",
    "\n",
    "message = \"Hello, GPT! This is my first ever message to you! Hi!\"\n",
    "\n",
    "response = openai.chat.completions.create(\n",
    "    model=\"gpt-4o-mini\", \n",
    "    messages=[{\n",
    "        \"role\": \"user\", \n",
    "        \"content\": message\n",
    "    }]\n",
    ")\n",
    "\n",
    "print(response.choices[0].message.content)"
   ]
  },
  {
   "cell_type": "markdown",
   "metadata": {},
   "source": [
    "## Simple Web Scrapper"
   ]
  },
  {
   "cell_type": "code",
   "execution_count": 6,
   "metadata": {},
   "outputs": [],
   "source": [
    "# A class to represent a Webpage.\n",
    "# If you're not familiar with Classes, check out the \"Intermediate Python\" notebook\n",
    "\n",
    "# Some websites need you to use proper headers when fetching them:\n",
    "headers = {\n",
    " \"User-Agent\": \n",
    " \"Mozilla/5.0 (Windows NT 10.0; Win64; x64) AppleWebKit/537.36 (KHTML, like Gecko) Chrome/117.0.0.0 Safari/537.36\"\n",
    "}\n",
    "\n",
    "class Website:\n",
    "\n",
    "    def __init__(self, url):\n",
    "        \"\"\"\n",
    "        Create this Website object from the given url using the BeautifulSoup library.\n",
    "        \"\"\"\n",
    "        \n",
    "        self.url = url\n",
    "        response = requests.get(url, headers=headers)\n",
    "        soup = BeautifulSoup(response.content, \"html.parser\")\n",
    "        self.title = soup.title.string if soup.title else \"No title found\"\n",
    "        \n",
    "        for irrelevant in soup.body([\"script\", \"style\", \"img\", \"input\"]):\n",
    "            irrelevant.decompose()\n",
    "        \n",
    "        self.text = soup.body.get_text(separator=\"\\n\", strip=True)"
   ]
  },
  {
   "cell_type": "code",
   "execution_count": 7,
   "metadata": {},
   "outputs": [
    {
     "name": "stdout",
     "output_type": "stream",
     "text": [
      "Home - Edward Donner\n",
      "Home\n",
      "Outsmart\n",
      "An arena that pits LLMs against each other in a battle of diplomacy and deviousness\n",
      "About\n",
      "Posts\n",
      "Well, hi there.\n",
      "I’m Ed. I like writing code and experimenting with LLMs, and hopefully you’re here because you do too. I also enjoy DJing (but I’m badly out of practice), amateur electronic music production (\n",
      "very\n",
      "amateur) and losing myself in\n",
      "Hacker News\n",
      ", nodding my head sagely to things I only half understand.\n",
      "I’m the co-founder and CTO of\n",
      "Nebula.io\n",
      ". We’re applying AI to a field where it can make a massive, positive impact: helping people discover their potential and pursue their reason for being. Recruiters use our product today to source, understand, engage and manage talent. I’m previously the founder and CEO of AI startup untapt,\n",
      "acquired in 2021\n",
      ".\n",
      "We work with groundbreaking, proprietary LLMs verticalized for talent, we’ve\n",
      "patented\n",
      "our matching model, and our award-winning platform has happy customers and tons of press coverage.\n",
      "Connect\n",
      "with me for more!\n",
      "January 23, 2025\n",
      "LLM Workshop – Hands-on with Agents – resources\n",
      "December 21, 2024\n",
      "Welcome, SuperDataScientists!\n",
      "November 13, 2024\n",
      "Mastering AI and LLM Engineering – Resources\n",
      "October 16, 2024\n",
      "From Software Engineer to AI Data Scientist – resources\n",
      "Navigation\n",
      "Home\n",
      "Outsmart\n",
      "An arena that pits LLMs against each other in a battle of diplomacy and deviousness\n",
      "About\n",
      "Posts\n",
      "Get in touch\n",
      "ed [at] edwarddonner [dot] com\n",
      "www.edwarddonner.com\n",
      "Follow me\n",
      "LinkedIn\n",
      "Twitter\n",
      "Facebook\n",
      "Subscribe to newsletter\n",
      "Type your email…\n",
      "Subscribe\n",
      "CPU times: user 101 ms, sys: 8.39 ms, total: 109 ms\n",
      "Wall time: 2min 11s\n"
     ]
    }
   ],
   "source": [
    "%%time\n",
    "\n",
    "# Let's try one out. Change the website and add print statements to follow along.\n",
    "ed = Website(\"https://edwarddonner.com\")\n",
    "\n",
    "print(ed.title)\n",
    "print(ed.text)"
   ]
  },
  {
   "cell_type": "markdown",
   "metadata": {},
   "source": [
    "## Types of Prompts"
   ]
  },
  {
   "cell_type": "code",
   "execution_count": 8,
   "metadata": {},
   "outputs": [],
   "source": [
    "# Define our system prompt - you can experiment with this later, changing the last sentence \n",
    "# to 'Respond in markdown in Spanish.\"\n",
    "\n",
    "system_prompt = \"You are an assistant that analyzes the contents of a website \\\n",
    "and provides a short summary, ignoring text that might be navigation related. \\\n",
    "Respond in markdown in Brazilian Portuguese.\""
   ]
  },
  {
   "cell_type": "code",
   "execution_count": 9,
   "metadata": {},
   "outputs": [],
   "source": [
    "# A function that writes a User Prompt that asks for summaries of websites:\n",
    "def user_prompt_for(website):\n",
    "   \n",
    "    user_prompt = f\"You are looking at a website titled {website.title}\"\n",
    "    user_prompt += \"\\nThe contents of this website is as follows; \\\n",
    "    please provide a short summary of this website in markdown. \\\n",
    "    If it includes news or announcements, then summarize these too.\\n\\n\"\n",
    "    user_prompt += website.text\n",
    "   \n",
    "    return user_prompt"
   ]
  },
  {
   "cell_type": "code",
   "execution_count": 10,
   "metadata": {},
   "outputs": [
    {
     "name": "stdout",
     "output_type": "stream",
     "text": [
      "You are looking at a website titled Home - Edward Donner\n",
      "The contents of this website is as follows;     please provide a short summary of this website in markdown.     If it includes news or announcements, then summarize these too.\n",
      "\n",
      "Home\n",
      "Outsmart\n",
      "An arena that pits LLMs against each other in a battle of diplomacy and deviousness\n",
      "About\n",
      "Posts\n",
      "Well, hi there.\n",
      "I’m Ed. I like writing code and experimenting with LLMs, and hopefully you’re here because you do too. I also enjoy DJing (but I’m badly out of practice), amateur electronic music production (\n",
      "very\n",
      "amateur) and losing myself in\n",
      "Hacker News\n",
      ", nodding my head sagely to things I only half understand.\n",
      "I’m the co-founder and CTO of\n",
      "Nebula.io\n",
      ". We’re applying AI to a field where it can make a massive, positive impact: helping people discover their potential and pursue their reason for being. Recruiters use our product today to source, understand, engage and manage talent. I’m previously the founder and CEO of AI startup untapt,\n",
      "acquired in 2021\n",
      ".\n",
      "We work with groundbreaking, proprietary LLMs verticalized for talent, we’ve\n",
      "patented\n",
      "our matching model, and our award-winning platform has happy customers and tons of press coverage.\n",
      "Connect\n",
      "with me for more!\n",
      "January 23, 2025\n",
      "LLM Workshop – Hands-on with Agents – resources\n",
      "December 21, 2024\n",
      "Welcome, SuperDataScientists!\n",
      "November 13, 2024\n",
      "Mastering AI and LLM Engineering – Resources\n",
      "October 16, 2024\n",
      "From Software Engineer to AI Data Scientist – resources\n",
      "Navigation\n",
      "Home\n",
      "Outsmart\n",
      "An arena that pits LLMs against each other in a battle of diplomacy and deviousness\n",
      "About\n",
      "Posts\n",
      "Get in touch\n",
      "ed [at] edwarddonner [dot] com\n",
      "www.edwarddonner.com\n",
      "Follow me\n",
      "LinkedIn\n",
      "Twitter\n",
      "Facebook\n",
      "Subscribe to newsletter\n",
      "Type your email…\n",
      "Subscribe\n"
     ]
    }
   ],
   "source": [
    "print(user_prompt_for(ed))"
   ]
  },
  {
   "cell_type": "markdown",
   "metadata": {},
   "source": [
    "## Messages"
   ]
  },
  {
   "cell_type": "code",
   "execution_count": 11,
   "metadata": {},
   "outputs": [],
   "source": [
    "messages = [\n",
    "    {\"role\": \"system\", \"content\": \"You are a snarky assistant\"},\n",
    "    {\"role\": \"user\", \"content\": \"What is 2 + 2?\"}\n",
    "]"
   ]
  },
  {
   "cell_type": "code",
   "execution_count": 12,
   "metadata": {},
   "outputs": [
    {
     "name": "stdout",
     "output_type": "stream",
     "text": [
      "Oh, let me think... it’s a tough one. Drumroll please... it’s 4! Shocking, I know.\n",
      "CPU times: user 11.7 ms, sys: 7.26 ms, total: 19 ms\n",
      "Wall time: 1.42 s\n"
     ]
    }
   ],
   "source": [
    "%%time\n",
    "\n",
    "# To give you a preview -- calling OpenAI with system and user messages:\n",
    "response = openai.chat.completions.create(\n",
    "    model=\"gpt-4o-mini\", \n",
    "    messages=messages\n",
    ")\n",
    "\n",
    "print(response.choices[0].message.content)"
   ]
  },
  {
   "cell_type": "markdown",
   "metadata": {},
   "source": [
    "## Function for Useful Messages"
   ]
  },
  {
   "cell_type": "code",
   "execution_count": 13,
   "metadata": {},
   "outputs": [],
   "source": [
    "# See how this function creates exactly the format above.\n",
    "def messages_for(website):\n",
    "    \n",
    "    return [\n",
    "        {\"role\": \"system\", \"content\": system_prompt},\n",
    "        {\"role\": \"user\", \"content\": user_prompt_for(website)}\n",
    "    ]"
   ]
  },
  {
   "cell_type": "code",
   "execution_count": 14,
   "metadata": {},
   "outputs": [
    {
     "data": {
      "text/plain": [
       "[{'role': 'system',\n",
       "  'content': 'You are an assistant that analyzes the contents of a website and provides a short summary, ignoring text that might be navigation related. Respond in markdown in Brazilian Portuguese.'},\n",
       " {'role': 'user',\n",
       "  'content': 'You are looking at a website titled Home - Edward Donner\\nThe contents of this website is as follows;     please provide a short summary of this website in markdown.     If it includes news or announcements, then summarize these too.\\n\\nHome\\nOutsmart\\nAn arena that pits LLMs against each other in a battle of diplomacy and deviousness\\nAbout\\nPosts\\nWell, hi there.\\nI’m Ed. I like writing code and experimenting with LLMs, and hopefully you’re here because you do too. I also enjoy DJing (but I’m badly out of practice), amateur electronic music production (\\nvery\\namateur) and losing myself in\\nHacker News\\n, nodding my head sagely to things I only half understand.\\nI’m the co-founder and CTO of\\nNebula.io\\n. We’re applying AI to a field where it can make a massive, positive impact: helping people discover their potential and pursue their reason for being. Recruiters use our product today to source, understand, engage and manage talent. I’m previously the founder and CEO of AI startup untapt,\\nacquired in 2021\\n.\\nWe work with groundbreaking, proprietary LLMs verticalized for talent, we’ve\\npatented\\nour matching model, and our award-winning platform has happy customers and tons of press coverage.\\nConnect\\nwith me for more!\\nJanuary 23, 2025\\nLLM Workshop – Hands-on with Agents – resources\\nDecember 21, 2024\\nWelcome, SuperDataScientists!\\nNovember 13, 2024\\nMastering AI and LLM Engineering – Resources\\nOctober 16, 2024\\nFrom Software Engineer to AI Data Scientist – resources\\nNavigation\\nHome\\nOutsmart\\nAn arena that pits LLMs against each other in a battle of diplomacy and deviousness\\nAbout\\nPosts\\nGet in touch\\ned [at] edwarddonner [dot] com\\nwww.edwarddonner.com\\nFollow me\\nLinkedIn\\nTwitter\\nFacebook\\nSubscribe to newsletter\\nType your email…\\nSubscribe'}]"
      ]
     },
     "execution_count": 14,
     "metadata": {},
     "output_type": "execute_result"
    }
   ],
   "source": [
    "# Try this out, and then try for a few more websites.\n",
    "messages_for(ed)"
   ]
  },
  {
   "cell_type": "markdown",
   "metadata": {},
   "source": [
    "## Bring it Together"
   ]
  },
  {
   "cell_type": "code",
   "execution_count": 15,
   "metadata": {},
   "outputs": [],
   "source": [
    "# And now: call the OpenAI API. You will get very familiar with this!\n",
    "def summarize(url):\n",
    "    \n",
    "    website = Website(url)\n",
    "    response = openai.chat.completions.create(\n",
    "        model=\"gpt-4o-mini\",\n",
    "        messages=messages_for(website)\n",
    "    )\n",
    "\n",
    "    return response.choices[0].message.content"
   ]
  },
  {
   "cell_type": "code",
   "execution_count": 16,
   "metadata": {},
   "outputs": [
    {
     "name": "stdout",
     "output_type": "stream",
     "text": [
      "# Resumo do Site - Edward Donner\n",
      "\n",
      "O site de Edward Donner apresenta seu trabalho e interesses em áreas como programação, inteligência artificial (IA) e produção de música eletrônica. Ed é o co-fundador e CTO da Nebula.io, uma empresa focada em aplicar IA na descoberta de talentos e no gerenciamento de recursos humanos. Anteriormente, ele fundou a startup untapt, adquirida em 2021.\n",
      "\n",
      "## Análises Recentes e Recursos\n",
      "- **23 de janeiro de 2025**: Workshop \"LLM – Mãos à obra com Agentes\" – Recursos disponíveis.\n",
      "- **21 de dezembro de 2024**: Boas-vindas aos SuperDataScientists!\n",
      "- **13 de novembro de 2024**: Recursos para \"Dominando Engenharia de IA e LLM\".\n",
      "- **16 de outubro de 2024**: Recursos para a transição de \"Engenheiro de Software para Cientista de Dados de IA\".\n",
      "\n",
      "O site enfatiza a interação e a conexão com outros profissionais interessados em LLMs (Modelos de Linguagem de Grande Escala) e oferece recursos úteis sobre o assunto.\n",
      "CPU times: user 51.7 ms, sys: 341 μs, total: 52 ms\n",
      "Wall time: 6.07 s\n"
     ]
    }
   ],
   "source": [
    "%%time\n",
    "\n",
    "print(summarize(\"https://edwarddonner.com\"))"
   ]
  },
  {
   "cell_type": "code",
   "execution_count": 17,
   "metadata": {},
   "outputs": [],
   "source": [
    "# A function to display this nicely in the Jupyter output, using markdown.\n",
    "def display_summary(url):\n",
    "    summary = summarize(url)\n",
    "    display(Markdown(summary))"
   ]
  },
  {
   "cell_type": "code",
   "execution_count": 18,
   "metadata": {},
   "outputs": [
    {
     "data": {
      "text/markdown": [
       "# Resumo do site - Edward Donner\n",
       "\n",
       "Este site é mantido por Ed, um entusiasta de programação e LLMs (Modelos de Linguagem de Grande Escala). Ele é co-fundador e CTO da Nebula.io, uma empresa que utiliza IA para ajudar pessoas a descobrirem seu potencial e se conectarem com oportunidades de trabalho. Com uma experiência anterior como fundador e CEO da untapt, Ed possui um forte histórico em tecnologia e inovação na área de talentos e recrutamento.\n",
       "\n",
       "## Anúncios e novidades\n",
       "- **23 de janeiro de 2025**: Workshop sobre LLM – Recursos práticos com agentes.\n",
       "- **21 de dezembro de 2024**: Boas-vindas aos SuperDataScientists!\n",
       "- **13 de novembro de 2024**: Recursos para dominar engenharia e inteligência artificial de LLM.\n",
       "- **16 de outubro de 2024**: Recursos sobre a transição de Engenheiro de Software para Cientista de Dados em IA. \n",
       "\n",
       "Ed também compartilha recursos, reflexões e experiências sobre suas áreas de interesse, convidando os visitantes a se conectarem com ele."
      ],
      "text/plain": [
       "<IPython.core.display.Markdown object>"
      ]
     },
     "metadata": {},
     "output_type": "display_data"
    },
    {
     "name": "stdout",
     "output_type": "stream",
     "text": [
      "CPU times: user 51 ms, sys: 0 ns, total: 51 ms\n",
      "Wall time: 5.13 s\n"
     ]
    }
   ],
   "source": [
    "%%time\n",
    "\n",
    "display_summary(\"https://edwarddonner.com\")"
   ]
  },
  {
   "cell_type": "markdown",
   "metadata": {},
   "source": [
    "## Other Websites"
   ]
  },
  {
   "cell_type": "code",
   "execution_count": 19,
   "metadata": {},
   "outputs": [
    {
     "data": {
      "text/markdown": [
       "# Resumo do site da CNN\n",
       "\n",
       "O site da CNN oferece uma ampla variedade de notícias e vídeos sobre diversos tópicos, incluindo política, negócios, saúde, entretenimento, ciência e eventos globais. A plataforma está focada em reportagens atualizadas, análises e conteúdos multimídia.\n",
       "\n",
       "## Principais notícias recentes:\n",
       "- **Guerra na Ucrânia e Israel-Hamas**: A CNN cobre eventos relacionados à guerra na Ucrânia e aos conflitos no Oriente Médio, incluindo a troca de acusações entre Hamas e Israel sobre violações de cessar-fogo.\n",
       "- **Política dos EUA**: O ex-presidente Trump está no centro de várias reportagens, incluindo sua administração que lançou uma blitz de aplicação de imigração em Chicago e suas tensões com o presidente da Colômbia, que resultaram em tarifas de retaliação.\n",
       "- **Eventos Educacionais e Culturais**: Destaques incluem uma exposição de moda no Louvre e uma nova análise sobre fosséis encontrados na China que podem alterar a compreensão da história humana.\n",
       "- **Saúde e Bem-Estar**: Relatórios sobre novas diretrizes alimentares que avaliam os riscos e benefícios do consumo de álcool estão disponíveis, assim como informações sobre a vida com ADHD e suas implicações para a saúde mental.\n",
       "\n",
       "Além disso, o site fornece acesso a vídeos ao vivo, programas e podcasts, permitindo que os usuários se mantenham atualizados com as notícias mais relevantes do momento."
      ],
      "text/plain": [
       "<IPython.core.display.Markdown object>"
      ]
     },
     "metadata": {},
     "output_type": "display_data"
    },
    {
     "name": "stdout",
     "output_type": "stream",
     "text": [
      "CPU times: user 384 ms, sys: 80 ms, total: 464 ms\n",
      "Wall time: 6.6 s\n"
     ]
    }
   ],
   "source": [
    "%%time\n",
    "\n",
    "display_summary(\"https://cnn.com\")"
   ]
  },
  {
   "cell_type": "code",
   "execution_count": 20,
   "metadata": {},
   "outputs": [
    {
     "data": {
      "text/markdown": [
       "# Resumo do Site da Anthropic\n",
       "\n",
       "O site da Anthropic apresenta a empresa como uma entidade focada em pesquisa e segurança em inteligência artificial, com sede em San Francisco. Destaca-se pelo desenvolvimento de modelos de IA, especialmente o Claude 3.5 Sonnet, que é seu modelo mais inteligente até o momento.\n",
       "\n",
       "## Principais Conteúdos\n",
       "\n",
       "- **Claude**: O principal produto da empresa, com ênfase na construção de aplicações e experiências personalizadas utilizando o Claude.\n",
       "- **Anúncios Recentes**:\n",
       "  - **22 de Outubro de 2024**: Introdução ao uso de computadores, incluindo lançamentos do modelo Claude 3.5 Sonnet e Claude 3.5 Haiku.\n",
       "  - **4 de Setembro de 2024**: Lançamento do Claude para o setor empresarial.\n",
       "  - **15 de Dezembro de 2022**: Pesquisa sobre \"Constitutional AI: Harmlessness from AI Feedback\".\n",
       "  - **8 de Março de 2023**: Discussão sobre as visões centrais da empresa em segurança em IA.\n",
       "\n",
       "## Visão Geral\n",
       "\n",
       "Com uma equipe interdisciplinar com experiência em aprendizado de máquina, física, políticas e produtos, a Anthropic busca criar sistemas de IA confiáveis e benéficos."
      ],
      "text/plain": [
       "<IPython.core.display.Markdown object>"
      ]
     },
     "metadata": {},
     "output_type": "display_data"
    },
    {
     "name": "stdout",
     "output_type": "stream",
     "text": [
      "CPU times: user 50.5 ms, sys: 7.04 ms, total: 57.6 ms\n",
      "Wall time: 4.96 s\n"
     ]
    }
   ],
   "source": [
    "%%time\n",
    "\n",
    "display_summary(\"https://anthropic.com\")"
   ]
  },
  {
   "cell_type": "markdown",
   "metadata": {},
   "source": [
    "## Exercise"
   ]
  },
  {
   "cell_type": "code",
   "execution_count": 21,
   "metadata": {},
   "outputs": [],
   "source": [
    "LFA_URL = \"https://lfa.if.usp.br/p%C3%A1gina-inicial\"\n",
    "lfa = Website(LFA_URL)"
   ]
  },
  {
   "cell_type": "code",
   "execution_count": 22,
   "metadata": {},
   "outputs": [
    {
     "name": "stdout",
     "output_type": "stream",
     "text": [
      "# Resumo do Site LFA - Laboratório de Física Atmosférica\n",
      "\n",
      "O Laboratório de Física Atmosférica (LFA) se dedica ao estudo das propriedades físicas e químicas da atmosfera, focando na análise do ciclo de vida de partículas atmosféricas, como aerossóis e nuvens. As pesquisas abrangem áreas urbanas, como São Paulo, e a Amazônia, lidando com questões de poluição e mudanças climáticas.\n",
      "\n",
      "## Áreas de Pesquisa\n",
      "- **Aerossóis Naturais na Amazônia**: Estudo das emissões de compostos orgânicos voláteis e sua transformação em aerossóis, fundamentais para a formação de nuvens.\n",
      "- **Aerossóis de Queimadas**: Análise das emissões de queimadas na Amazônia e seus impactos no clima e na saúde.\n",
      "- **Mudanças Climáticas**: Investigação do equilíbrio radiativo da Terra e as consequências de alterações de uso do solo e emissões de gases.\n",
      "- **Vapor de Água e Nuvens**: Estudo do transporte de vapor de água e suas implicações para a precipitação em regiões continentais.\n",
      "- **Interação entre Nuvens e Aerossóis**: Pesquisa sobre como aerossóis influenciam a formação de nuvens e precipitação.\n",
      "- **Poluição Urbana**: Análise da qualidade do ar em cidades brasileiras e suas consequências para a saúde pública.\n",
      "\n",
      "O LFA utiliza diversas técnicas experimentais e modelos numéricos para compreender melhor esses fenômenos e suas interações.\n",
      "CPU times: user 17.2 ms, sys: 0 ns, total: 17.2 ms\n",
      "Wall time: 4.49 s\n"
     ]
    }
   ],
   "source": [
    "%%time\n",
    "\n",
    "# Step 1: Create your prompts.\n",
    "system_prompt = \\\n",
    "    f\"\"\"\n",
    "    Você é um assistente que analisa o conteúdo de um site e fornece um resumo curto,\n",
    "    ignorando o texto que pode ser relacionado à navegação. Responda em markdown em português brasileiro.\n",
    "    \"\"\"\n",
    "user_prompt = f\"\"\"\n",
    "    Voce está olhando para um site intitulado {lfa.title}.\n",
    "    O conteúdo deste site é o seguinte; por favor, forneça um breve resumo deste site em markdown em Português Brasileiro.\n",
    "\n",
    "    Conteúdo do site:\n",
    "    {lfa.text}\n",
    "\"\"\"\n",
    "\n",
    "# Step 2: Make the messages list.\n",
    "messages = [\n",
    "    {\"role\": \"system\", \"content\": system_prompt},\n",
    "    {\"role\": \"user\", \"content\": user_prompt}\n",
    "]\n",
    "\n",
    "# Step 3: Call OpenAI.\n",
    "response = openai.chat.completions.create(\n",
    "    model=\"gpt-4o-mini\",\n",
    "    messages=messages\n",
    ")\n",
    "results = response.choices[0].message.content\n",
    "\n",
    "# Step 4: print the result.\n",
    "print(results)"
   ]
  },
  {
   "cell_type": "code",
   "execution_count": 23,
   "metadata": {},
   "outputs": [
    {
     "data": {
      "text/markdown": [
       "# Resumo do Laboratório de Física Atmosférica (LFA)\n",
       "\n",
       "O **Laboratório de Física Atmosférica (LFA)** se dedica ao estudo das propriedades físicas e químicas da atmosfera, com foco em temas como o ciclo de vida de aerossóis e nuvens, especialmente em contextos urbanos e na Amazônia. O laboratório realiza pesquisas sobre poluição urbana em cidades brasileiras e as implicações da queima de biomassa na Amazônia, analisando suas consequências para o clima e a saúde pública.\n",
       "\n",
       "## Novidades\n",
       "\n",
       "- **CPAM 2024**: Anúncio da Conferência Pan-Americana de Meteorologia, a ser realizada em 2024.\n",
       "- **Entrevista com Paulo Artaxo**: Discussão sobre a crise climática e ações governamentais em uma reportagem do Jornal da USP.\n",
       "- **Apresentação sobre o CEAS**: Foco na integração da ciência com a Amazônia Sustentável.\n",
       "\n",
       "## Áreas de Pesquisa\n",
       "\n",
       "1. **Aerossóis Naturais na Amazônia**: Estudo da emissão de compostos orgânicos voláteis pelas florestas e seu papel na formação de nuvens.\n",
       "2. **Aerossóis de Queimadas**: Análise das emissões de queimadas e seus efeitos climáticos e na saúde pública.\n",
       "3. **Mudanças Climáticas Globais**: Pesquisa sobre a influência do desmatamento e das emissões de gases de efeito estufa no clima.\n",
       "4. **Vapor de Água e Nuvens**: Investigação do transporte de vapor de água e seus impactos na precipitação.\n",
       "5. **Interação entre Nuvens e Aerossóis**: Estudo de como aerossóis influenciam a formação de nuvens.\n",
       "6. **Poluição Urbana**: Análise da poluição do ar nas cidades e sua relação com a saúde.\n",
       "\n",
       "O LFA, ligado ao Instituto de Física da Universidade de São Paulo, desenvolve uma série de projetos experimentais e utiliza ferramentas avançadas de análise, como sensoriamento remoto e modelos numéricos."
      ],
      "text/plain": [
       "<IPython.core.display.Markdown object>"
      ]
     },
     "metadata": {},
     "output_type": "display_data"
    },
    {
     "name": "stdout",
     "output_type": "stream",
     "text": [
      "CPU times: user 78.6 ms, sys: 11.9 ms, total: 90.5 ms\n",
      "Wall time: 12.7 s\n"
     ]
    }
   ],
   "source": [
    "%%time\n",
    "\n",
    "display_summary(LFA_URL)"
   ]
  }
 ],
 "metadata": {
  "kernelspec": {
   "display_name": "Python 3 (ipykernel)",
   "language": "python",
   "name": "python3"
  },
  "language_info": {
   "codemirror_mode": {
    "name": "ipython",
    "version": 3
   },
   "file_extension": ".py",
   "mimetype": "text/x-python",
   "name": "python",
   "nbconvert_exporter": "python",
   "pygments_lexer": "ipython3",
   "version": "3.12.0"
  }
 },
 "nbformat": 4,
 "nbformat_minor": 2
}
